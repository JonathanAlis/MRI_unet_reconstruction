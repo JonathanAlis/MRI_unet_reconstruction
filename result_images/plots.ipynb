{
 "cells": [
  {
   "cell_type": "code",
   "execution_count": 2,
   "metadata": {},
   "outputs": [
    {
     "name": "stdout",
     "output_type": "stream",
     "text": [
      "['L2', 'L1', 'TV', 'L2_L1', 'L2_TV', 'L1_TV', 'L2_L1_TV']\n",
      "['Unet', 'ResnetUnet', 'ConvUNeXt']\n",
      "[20, 40, 60, 80, 100]\n"
     ]
    }
   ],
   "source": [
    "from itertools import combinations, product\n",
    "\n",
    "unet_types = ['Unet', 'ResnetUnet', 'ConvUNeXt']\n",
    "type_rec = ['L2', 'L1', 'TV']\n",
    "type_recs = []\n",
    "for r in range(1, len(type_rec) + 1):\n",
    "    for combination in combinations(type_rec, r):\n",
    "        type_recs.append('_'.join(combination))\n",
    "print(type_recs)\n",
    "print(unet_types)\n",
    "radial_lines_num = [20]#,40,60,80,100]\n",
    "print(radial_lines_num)\n"
   ]
  },
  {
   "cell_type": "code",
   "execution_count": null,
   "metadata": {},
   "outputs": [],
   "source": []
  }
 ],
 "metadata": {
  "kernelspec": {
   "display_name": "Python 3",
   "language": "python",
   "name": "python3"
  },
  "language_info": {
   "codemirror_mode": {
    "name": "ipython",
    "version": 3
   },
   "file_extension": ".py",
   "mimetype": "text/x-python",
   "name": "python",
   "nbconvert_exporter": "python",
   "pygments_lexer": "ipython3",
   "version": "3.11.7"
  }
 },
 "nbformat": 4,
 "nbformat_minor": 2
}
