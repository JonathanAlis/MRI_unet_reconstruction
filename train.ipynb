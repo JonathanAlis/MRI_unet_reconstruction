{
 "cells": [
  {
   "cell_type": "code",
   "execution_count": 27,
   "metadata": {},
   "outputs": [
    {
     "data": {
      "text/plain": [
       "2"
      ]
     },
     "execution_count": 27,
     "metadata": {},
     "output_type": "execute_result"
    }
   ],
   "source": [
    "1+1"
   ]
  },
  {
   "cell_type": "code",
   "execution_count": 28,
   "metadata": {},
   "outputs": [
    {
     "data": {
      "text/plain": [
       "<torch._C.Generator at 0x7f993a2eaa70>"
      ]
     },
     "execution_count": 28,
     "metadata": {},
     "output_type": "execute_result"
    }
   ],
   "source": [
    "import matplotlib.pyplot as plt\n",
    "import numpy as np\n",
    "import pandas as pd\n",
    "import random\n",
    "import torch\n",
    "import torchvision\n",
    "from torchvision import transforms\n",
    "from torch.utils.data import DataLoader,random_split\n",
    "from torch import nn\n",
    "import torch.nn.functional as F\n",
    "import torch.optim as optim\n",
    "from torchvision.datasets import ImageFolder\n",
    "import os\n",
    "from tqdm import tqdm\n",
    "import sys\n",
    "from GPUtil import showUtilization as gpu_usage\n",
    "from numba import cuda\n",
    "import torch, gc\n",
    "import pickle\n",
    "from itertools import combinations\n",
    "from torch.utils.data import DataLoader, Dataset\n",
    "from PIL import Image\n",
    "import time\n",
    "\n",
    "from models import Unet, get_default_device, to_device, DeviceDataLoader\n",
    "from models import ResnetUnet, ConvUNeXt\n",
    "os.environ['CUDA_VISIBLE_DEVICES']='0'\n",
    "torch.manual_seed(0)"
   ]
  },
  {
   "cell_type": "code",
   "execution_count": 29,
   "metadata": {},
   "outputs": [
    {
     "data": {
      "text/plain": [
       "['L2', 'L1', 'TV', 'L2_L1', 'L2_TV', 'L1_TV', 'L2_L1_TV']"
      ]
     },
     "execution_count": 29,
     "metadata": {},
     "output_type": "execute_result"
    }
   ],
   "source": [
    "rectype=['L2','L1','TV']\n",
    "rectype_combinations=[] \n",
    "rectype_strings=[]\n",
    "for i in range(len(rectype)):\n",
    "    for p in combinations(rectype, i+1):  # 2 for pairs, 3 for triplets, etc\n",
    "\n",
    "        rectype_combinations.append(p)\n",
    "        rectype_strings.append('_'.join(p))\n",
    "rectype_combinations\n",
    "rectype_strings"
   ]
  },
  {
   "cell_type": "code",
   "execution_count": 30,
   "metadata": {},
   "outputs": [
    {
     "data": {
      "text/plain": [
       "['./BIRN_dataset/birn_pngs_20lines_L2/',\n",
       " './BIRN_dataset/birn_pngs_40lines_L2/',\n",
       " './BIRN_dataset/birn_pngs_60lines_L2/',\n",
       " './BIRN_dataset/birn_pngs_80lines_L2/',\n",
       " './BIRN_dataset/birn_pngs_100lines_L2/',\n",
       " './BIRN_dataset/birn_pngs_20lines_L1/',\n",
       " './BIRN_dataset/birn_pngs_40lines_L1/',\n",
       " './BIRN_dataset/birn_pngs_60lines_L1/',\n",
       " './BIRN_dataset/birn_pngs_80lines_L1/',\n",
       " './BIRN_dataset/birn_pngs_100lines_L1/',\n",
       " './BIRN_dataset/birn_pngs_20lines_TV/',\n",
       " './BIRN_dataset/birn_pngs_40lines_TV/',\n",
       " './BIRN_dataset/birn_pngs_60lines_TV/',\n",
       " './BIRN_dataset/birn_pngs_80lines_TV/',\n",
       " './BIRN_dataset/birn_pngs_100lines_TV/']"
      ]
     },
     "execution_count": 30,
     "metadata": {},
     "output_type": "execute_result"
    }
   ],
   "source": [
    "radial_lines=[20,40,60,80,100]\n",
    "dataset_dir='./BIRN_dataset/'\n",
    "images_dir=(dataset_dir+'birn_png/')\n",
    "rec_dirs=[(f\"{dataset_dir}birn_pngs_{rl}lines_{rt}/\") for rt in rectype for rl in radial_lines]\n",
    "rec_dirs"
   ]
  },
  {
   "cell_type": "code",
   "execution_count": 31,
   "metadata": {},
   "outputs": [],
   "source": [
    "\n",
    "class OriginalReconstructionDataset(Dataset):\n",
    "    def __init__(self, radial_line, rec_type_str, datasets_dir, indexes = None, img_size=(256,256)):\n",
    "        rec_type=rec_type_str.split('_')\n",
    "        self.images_dir=(dataset_dir+'birn_png/')\n",
    "        rec_dirs=[(f\"{dataset_dir}birn_pngs_{rl}lines_{rt}/\") for rt in rectype for rl in radial_lines]\n",
    "        \n",
    "        self.rec_images_dirs=[]\n",
    "        for dir in rec_dirs:\n",
    "            for rt in rec_type:\n",
    "                if rt in dir:\n",
    "                    if str(radial_line) in dir:\n",
    "                        self.rec_images_dirs.append(dir)\n",
    "                        break\n",
    "\n",
    "        self.images = [f for f in os.listdir(self.images_dir) if f.endswith('.png')]\n",
    "        if indexes is not None:\n",
    "            self.images = [self.images[i] for i in indexes] \n",
    "        self.transform = transforms.Compose([\n",
    "                        transforms.Grayscale(num_output_channels=1),         \n",
    "                        transforms.Resize(img_size),\n",
    "                        #transforms.Lambda(lambda x: x/255.0),\n",
    "                        transforms.ToTensor()\n",
    "                        ])\n",
    "        self.rec_types=rec_type\n",
    "        self.radial_line=radial_line\n",
    "        \n",
    "    def __len__(self):\n",
    "    # return length of image samples    \n",
    "        return len(self.images)\n",
    "\n",
    "    def __getitem__(self, idx):\n",
    "        img_name=self.images[idx]\n",
    "        img = Image.open(self.images_dir+img_name)\n",
    "        img=self.transform(img)#.half()\n",
    "        rec_imgs=[]\n",
    "        for rec,dir in zip(self.rec_types,self.rec_images_dirs):\n",
    "            noisy_name=img_name[:-14]+rec+f'_{self.radial_line}lines.png'            \n",
    "            tensor=self.transform(Image.open(dir+noisy_name))\n",
    "            rec_imgs.append(tensor)\n",
    "        noisy=torch.stack(rec_imgs)\n",
    "        noisy=torch.squeeze(noisy, 1)#.half()\n",
    "        return (img,noisy)\n",
    "\n",
    "def first_element(test_dataset):\n",
    "    for data in test_dataset:\n",
    "        print(data[0].shape)\n",
    "        print(data[1].shape)\n",
    "        break\n"
   ]
  },
  {
   "cell_type": "code",
   "execution_count": 32,
   "metadata": {},
   "outputs": [],
   "source": [
    "idx_file='indexes.pkl'\n",
    "if not os.path.exists(idx_file):\n",
    "    np.random.seed(seed=42)\n",
    "    all_indexes=np.random.permutation(len([f for f in os.listdir(images_dir) if f.endswith('.png')]))\n",
    "    m = len(all_indexes)\n",
    "    m_train=int(m*0.8)\n",
    "    m_val = int(m*0.1)\n",
    "    train_indexes=all_indexes[:m_train]\n",
    "    val_indexes=all_indexes[m_train:m_train+m_val]\n",
    "    test_indexes=all_indexes[m_train+m_val:]\n",
    "    \n",
    "    with open(idx_file, 'wb') as f:  # Python 3: open(..., 'wb')\n",
    "        pickle.dump([train_indexes, val_indexes, test_indexes], f)\n",
    "else:\n",
    "    with open(idx_file,'rb') as f:  # Python 3: open(..., 'rb')\n",
    "        train_indexes, val_indexes, test_indexes = pickle.load(f)\n",
    "\n",
    "\n"
   ]
  },
  {
   "cell_type": "code",
   "execution_count": 33,
   "metadata": {},
   "outputs": [
    {
     "name": "stdout",
     "output_type": "stream",
     "text": [
      "torch.Size([1, 256, 256])\n",
      "torch.Size([1, 256, 256])\n",
      "torch.Size([1, 256, 256])\n",
      "torch.Size([1, 256, 256])\n",
      "torch.Size([1, 256, 256])\n",
      "torch.Size([1, 256, 256])\n",
      "torch.Size([1, 256, 256])\n",
      "torch.Size([1, 256, 256])\n",
      "torch.Size([1, 256, 256])\n",
      "torch.Size([1, 256, 256])\n",
      "torch.Size([1, 256, 256])\n",
      "torch.Size([1, 256, 256])\n",
      "torch.Size([1, 256, 256])\n",
      "torch.Size([1, 256, 256])\n",
      "torch.Size([1, 256, 256])\n",
      "torch.Size([1, 256, 256])\n",
      "torch.Size([1, 256, 256])\n",
      "torch.Size([1, 256, 256])\n",
      "torch.Size([1, 256, 256])\n",
      "torch.Size([1, 256, 256])\n",
      "torch.Size([1, 256, 256])\n",
      "torch.Size([1, 256, 256])\n",
      "torch.Size([1, 256, 256])\n",
      "torch.Size([1, 256, 256])\n",
      "torch.Size([1, 256, 256])\n",
      "torch.Size([1, 256, 256])\n",
      "torch.Size([1, 256, 256])\n",
      "torch.Size([1, 256, 256])\n",
      "torch.Size([1, 256, 256])\n",
      "torch.Size([1, 256, 256])\n",
      "torch.Size([1, 256, 256])\n",
      "torch.Size([2, 256, 256])\n",
      "torch.Size([1, 256, 256])\n",
      "torch.Size([2, 256, 256])\n",
      "torch.Size([1, 256, 256])\n",
      "torch.Size([2, 256, 256])\n",
      "torch.Size([1, 256, 256])\n",
      "torch.Size([2, 256, 256])\n",
      "torch.Size([1, 256, 256])\n",
      "torch.Size([2, 256, 256])\n",
      "torch.Size([1, 256, 256])\n",
      "torch.Size([2, 256, 256])\n",
      "torch.Size([1, 256, 256])\n",
      "torch.Size([2, 256, 256])\n",
      "torch.Size([1, 256, 256])\n",
      "torch.Size([2, 256, 256])\n",
      "torch.Size([1, 256, 256])\n",
      "torch.Size([2, 256, 256])\n",
      "torch.Size([1, 256, 256])\n",
      "torch.Size([2, 256, 256])\n",
      "torch.Size([1, 256, 256])\n",
      "torch.Size([2, 256, 256])\n",
      "torch.Size([1, 256, 256])\n",
      "torch.Size([2, 256, 256])\n",
      "torch.Size([1, 256, 256])\n",
      "torch.Size([2, 256, 256])\n",
      "torch.Size([1, 256, 256])\n",
      "torch.Size([2, 256, 256])\n",
      "torch.Size([1, 256, 256])\n",
      "torch.Size([2, 256, 256])\n",
      "torch.Size([1, 256, 256])\n",
      "torch.Size([3, 256, 256])\n",
      "torch.Size([1, 256, 256])\n",
      "torch.Size([3, 256, 256])\n",
      "torch.Size([1, 256, 256])\n",
      "torch.Size([3, 256, 256])\n",
      "torch.Size([1, 256, 256])\n",
      "torch.Size([3, 256, 256])\n",
      "torch.Size([1, 256, 256])\n",
      "torch.Size([3, 256, 256])\n",
      "torch.Size([1, 256, 256])\n",
      "torch.Size([1, 256, 256])\n",
      "torch.Size([1, 256, 256])\n",
      "torch.Size([1, 256, 256])\n",
      "torch.Size([1, 256, 256])\n",
      "torch.Size([1, 256, 256])\n",
      "torch.Size([1, 256, 256])\n",
      "torch.Size([1, 256, 256])\n",
      "torch.Size([1, 256, 256])\n",
      "torch.Size([1, 256, 256])\n",
      "torch.Size([1, 256, 256])\n",
      "torch.Size([1, 256, 256])\n",
      "torch.Size([1, 256, 256])\n",
      "torch.Size([1, 256, 256])\n",
      "torch.Size([1, 256, 256])\n",
      "torch.Size([1, 256, 256])\n",
      "torch.Size([1, 256, 256])\n",
      "torch.Size([1, 256, 256])\n",
      "torch.Size([1, 256, 256])\n",
      "torch.Size([1, 256, 256])\n",
      "torch.Size([1, 256, 256])\n",
      "torch.Size([1, 256, 256])\n",
      "torch.Size([1, 256, 256])\n",
      "torch.Size([1, 256, 256])\n",
      "torch.Size([1, 256, 256])\n",
      "torch.Size([1, 256, 256])\n",
      "torch.Size([1, 256, 256])\n",
      "torch.Size([1, 256, 256])\n",
      "torch.Size([1, 256, 256])\n",
      "torch.Size([1, 256, 256])\n",
      "torch.Size([1, 256, 256])\n",
      "torch.Size([2, 256, 256])\n",
      "torch.Size([1, 256, 256])\n",
      "torch.Size([2, 256, 256])\n",
      "torch.Size([1, 256, 256])\n",
      "torch.Size([2, 256, 256])\n",
      "torch.Size([1, 256, 256])\n",
      "torch.Size([2, 256, 256])\n",
      "torch.Size([1, 256, 256])\n",
      "torch.Size([2, 256, 256])\n",
      "torch.Size([1, 256, 256])\n",
      "torch.Size([2, 256, 256])\n",
      "torch.Size([1, 256, 256])\n",
      "torch.Size([2, 256, 256])\n",
      "torch.Size([1, 256, 256])\n",
      "torch.Size([2, 256, 256])\n",
      "torch.Size([1, 256, 256])\n",
      "torch.Size([2, 256, 256])\n",
      "torch.Size([1, 256, 256])\n",
      "torch.Size([2, 256, 256])\n",
      "torch.Size([1, 256, 256])\n",
      "torch.Size([2, 256, 256])\n",
      "torch.Size([1, 256, 256])\n",
      "torch.Size([2, 256, 256])\n",
      "torch.Size([1, 256, 256])\n",
      "torch.Size([2, 256, 256])\n",
      "torch.Size([1, 256, 256])\n",
      "torch.Size([2, 256, 256])\n",
      "torch.Size([1, 256, 256])\n",
      "torch.Size([2, 256, 256])\n",
      "torch.Size([1, 256, 256])\n",
      "torch.Size([3, 256, 256])\n",
      "torch.Size([1, 256, 256])\n",
      "torch.Size([3, 256, 256])\n",
      "torch.Size([1, 256, 256])\n",
      "torch.Size([3, 256, 256])\n",
      "torch.Size([1, 256, 256])\n",
      "torch.Size([3, 256, 256])\n",
      "torch.Size([1, 256, 256])\n",
      "torch.Size([3, 256, 256])\n",
      "torch.Size([1, 256, 256])\n",
      "torch.Size([1, 256, 256])\n",
      "torch.Size([1, 256, 256])\n",
      "torch.Size([1, 256, 256])\n",
      "torch.Size([1, 256, 256])\n",
      "torch.Size([1, 256, 256])\n",
      "torch.Size([1, 256, 256])\n",
      "torch.Size([1, 256, 256])\n",
      "torch.Size([1, 256, 256])\n",
      "torch.Size([1, 256, 256])\n",
      "torch.Size([1, 256, 256])\n",
      "torch.Size([1, 256, 256])\n",
      "torch.Size([1, 256, 256])\n",
      "torch.Size([1, 256, 256])\n",
      "torch.Size([1, 256, 256])\n",
      "torch.Size([1, 256, 256])\n",
      "torch.Size([1, 256, 256])\n",
      "torch.Size([1, 256, 256])\n",
      "torch.Size([1, 256, 256])\n",
      "torch.Size([1, 256, 256])\n",
      "torch.Size([1, 256, 256])\n",
      "torch.Size([1, 256, 256])\n",
      "torch.Size([1, 256, 256])\n",
      "torch.Size([1, 256, 256])\n",
      "torch.Size([1, 256, 256])\n",
      "torch.Size([1, 256, 256])\n",
      "torch.Size([1, 256, 256])\n",
      "torch.Size([1, 256, 256])\n",
      "torch.Size([1, 256, 256])\n",
      "torch.Size([1, 256, 256])\n",
      "torch.Size([1, 256, 256])\n",
      "torch.Size([2, 256, 256])\n",
      "torch.Size([1, 256, 256])\n",
      "torch.Size([2, 256, 256])\n",
      "torch.Size([1, 256, 256])\n",
      "torch.Size([2, 256, 256])\n",
      "torch.Size([1, 256, 256])\n",
      "torch.Size([2, 256, 256])\n",
      "torch.Size([1, 256, 256])\n",
      "torch.Size([2, 256, 256])\n",
      "torch.Size([1, 256, 256])\n",
      "torch.Size([2, 256, 256])\n",
      "torch.Size([1, 256, 256])\n",
      "torch.Size([2, 256, 256])\n",
      "torch.Size([1, 256, 256])\n",
      "torch.Size([2, 256, 256])\n",
      "torch.Size([1, 256, 256])\n",
      "torch.Size([2, 256, 256])\n",
      "torch.Size([1, 256, 256])\n",
      "torch.Size([2, 256, 256])\n",
      "torch.Size([1, 256, 256])\n",
      "torch.Size([2, 256, 256])\n",
      "torch.Size([1, 256, 256])\n",
      "torch.Size([2, 256, 256])\n",
      "torch.Size([1, 256, 256])\n",
      "torch.Size([2, 256, 256])\n",
      "torch.Size([1, 256, 256])\n",
      "torch.Size([2, 256, 256])\n",
      "torch.Size([1, 256, 256])\n",
      "torch.Size([2, 256, 256])\n",
      "torch.Size([1, 256, 256])\n",
      "torch.Size([3, 256, 256])\n",
      "torch.Size([1, 256, 256])\n",
      "torch.Size([3, 256, 256])\n",
      "torch.Size([1, 256, 256])\n",
      "torch.Size([3, 256, 256])\n",
      "torch.Size([1, 256, 256])\n",
      "torch.Size([3, 256, 256])\n",
      "torch.Size([1, 256, 256])\n",
      "torch.Size([3, 256, 256])\n"
     ]
    }
   ],
   "source": [
    "#nao precisa dessa celula\n",
    "batch_size=4\n",
    "device=get_default_device()\n",
    "radial_lines=[20,40,60,80,100]\n",
    "\n",
    "train_dataset={}\n",
    "train_loaders={}\n",
    "for rt in rectype_strings:\n",
    "    for rl in radial_lines:\n",
    "        train_ds=OriginalReconstructionDataset(rl, rt, dataset_dir, train_indexes)\n",
    "        train_dataset[rl,rt]=train_ds\n",
    "        train_loaders[rl,rt]=DeviceDataLoader(torch.utils.data.DataLoader(train_ds, batch_size=batch_size), device)\n",
    "        first_element(train_ds)\n",
    "\n",
    "\n",
    "val_dataset={}\n",
    "val_loaders={}\n",
    "for rt in rectype_strings:\n",
    "    for rl in radial_lines:\n",
    "        val_ds=OriginalReconstructionDataset(rl, rt, dataset_dir, val_indexes)\n",
    "        val_dataset[rl,rt]=val_ds\n",
    "        val_loaders[rl,rt]=DeviceDataLoader(torch.utils.data.DataLoader(val_ds, batch_size=batch_size), device)\n",
    "        first_element(val_ds)\n",
    "\n",
    "test_dataset={}\n",
    "test_loaders={}\n",
    "for rt in rectype_strings:\n",
    "    for rl in radial_lines:\n",
    "        test_ds=OriginalReconstructionDataset(rl, rt, dataset_dir, test_indexes)\n",
    "        test_dataset[rl,rt]=test_ds\n",
    "        test_loaders[rl,rt]=DeviceDataLoader(torch.utils.data.DataLoader(test_ds, batch_size=batch_size,shuffle=True), device)\n",
    "        first_element(test_ds)\n",
    "\n",
    "\n",
    "\n"
   ]
  },
  {
   "cell_type": "code",
   "execution_count": 34,
   "metadata": {},
   "outputs": [],
   "source": [
    "\n",
    "\n",
    "## Training function\n",
    "def train_epoch_den(model, dataloader, optimizer, scheduler):\n",
    "    # Set train mode\n",
    "    loss_fn=nn.MSELoss(reduction='sum')\n",
    "    model.train()    \n",
    "    train_loss = 0\n",
    "    datasize=0\n",
    "    # Iterate the dataloader (we do not need the label values, this is unsupervised learning)\n",
    "    for image_batch, image_noisy in tqdm(dataloader): # with \"_\" we just ignore the labels (the second element of the dataloader tuple)\n",
    "        #image_noisy.to(device)\n",
    "        result = model(image_noisy)\n",
    "        # Evaluate loss        \n",
    "        loss = loss_fn(result, image_batch)\n",
    "        # Backward pass        \n",
    "        optimizer.zero_grad()\n",
    "        loss.backward()\n",
    "        train_loss+=loss.detach().cpu().numpy()\n",
    "        datasize+=image_batch.shape[0]\n",
    "        optimizer.step()\n",
    "        scheduler.step()\n",
    "    return train_loss/datasize, optimizer, scheduler\n",
    "\n",
    "### Testing function\n",
    "def test_epoch_den(model, dataloader):\n",
    "    loss_fn=nn.MSELoss(reduction='sum')\n",
    "    # Set evaluation mode\n",
    "    model.eval()\n",
    "    val_loss=0\n",
    "    datasize=0\n",
    "\n",
    "    with torch.no_grad(): # No need to track the gradients\n",
    "        for image_batch, image_noisy in tqdm(dataloader):\n",
    "            result = model(image_noisy)\n",
    "            val_loss += loss_fn(result, image_batch)\n",
    "            datasize += image_batch.shape[0]\n",
    "\n",
    "    return val_loss/datasize\n",
    "\n",
    "def plot_ae_outputs_den(model,n=10):\n",
    "    plt.figure(figsize=(21,6))\n",
    "    for i in range(n):\n",
    "\n",
    "      ax = plt.subplot(3,n,i+1)\n",
    "      img = test_dataset[4*i][0].unsqueeze(0)\n",
    "      image_noisy = test_dataset[4*i][1].unsqueeze(0)\n",
    "      \n",
    "      model.eval()\n",
    "\n",
    "      with torch.no_grad():\n",
    "         rec_img  = model(image_noisy)\n",
    "\n",
    "      plt.imshow(img.cpu().squeeze().numpy()[0,:,:], cmap='gist_gray')\n",
    "      ax.get_xaxis().set_visible(False)\n",
    "      ax.get_yaxis().set_visible(False)  \n",
    "      if i == n//2:\n",
    "        ax.set_title('Original images')\n",
    "      ax = plt.subplot(3, n, i + 1 + n)\n",
    "      plt.imshow(image_noisy.cpu().squeeze().numpy()[0,:,:], cmap='gist_gray')\n",
    "      ax.get_xaxis().set_visible(False)\n",
    "      ax.get_yaxis().set_visible(False)  \n",
    "      if i == n//2:\n",
    "        ax.set_title('Corrupted images')\n",
    "\n",
    "      ax = plt.subplot(3, n, i + 1 + n + n)\n",
    "      plt.imshow(rec_img.cpu().squeeze().numpy()[0,:,:], cmap='gist_gray')  \n",
    "      ax.get_xaxis().set_visible(False)\n",
    "      ax.get_yaxis().set_visible(False)  \n",
    "      if i == n//2:\n",
    "         ax.set_title('Reconstructed images')\n",
    "    plt.subplots_adjust(left=0.1,\n",
    "                    bottom=0.1, \n",
    "                    right=0.7, \n",
    "                    top=0.9, \n",
    "                    wspace=0.3, \n",
    "                    hspace=0.3)   \n",
    "    \n",
    "    plt.savefig('images_256_CS_TV.png')\n",
    "    plt.show()\n",
    "\n"
   ]
  },
  {
   "cell_type": "code",
   "execution_count": 35,
   "metadata": {},
   "outputs": [],
   "source": [
    "def define_optimizer(lr_type, lr, params_to_optimize,max_epochs=500):\n",
    "    if lr_type == 'constant':\n",
    "        optimizer = torch.optim.Adam(params_to_optimize, lr=lr, weight_decay=1e-05)\n",
    "        scheduler = torch.optim.lr_scheduler.ConstantLR(optimizer, factor=1)\n",
    "    if lr_type == 'step10':\n",
    "        optimizer = torch.optim.Adam(params_to_optimize, lr=lr, weight_decay=1e-05)\n",
    "        scheduler = torch.optim.lr_scheduler.StepLR(optimizer, step_size=10, gamma=0.1)        \n",
    "    if lr_type =='exp':\n",
    "        optimizer  = torch.optim.Adam(params_to_optimize, lr=lr, weight_decay=1e-05)\n",
    "        scheduler = torch.optim.lr_scheduler.ExponentialLR(optimizer, gamma=0.000001**(1/max_epochs), last_epoch=- 1, verbose=False)\n",
    "    elif lr_type == 'plateau':\n",
    "        optimizer = torch.optim.Adam(params_to_optimize, lr=lr, weight_decay=1e-05)\n",
    "        scheduler = torch.optim.lr_scheduler.ReduceLROnPlateau(optimizer, mode='min', factor=0.1**(1/2), patience=10, threshold=0.0001, threshold_mode='rel', cooldown=0, min_lr=0, eps=1e-08, verbose=False)\n",
    "    else:\n",
    "        optimizer = torch.optim.Adam(params_to_optimize, lr=lr, weight_decay=1e-05)\n",
    "        scheduler = torch.optim.lr_scheduler.ConstantLR(optimizer, factor=1)\n",
    "    return (lr_type, optimizer,scheduler)\n",
    "    \n",
    "    \n",
    "def save_model(path, epoch, model, optimizer, scheduler, train_loss, val_loss):\n",
    "    torch.save({\n",
    "            'epoch': epoch,\n",
    "            'model_state_dict': model.state_dict(),\n",
    "            'optimizer_state_dict': optimizer.state_dict(),\n",
    "            'scheduler_state_dict': scheduler.state_dict(),\n",
    "            'train_loss': train_loss,\n",
    "            'val_loss': val_loss,\n",
    "            }, path)\n",
    "            \n",
    "def optimizer_to(optim, device):\n",
    "    for param in optim.state.values():\n",
    "        # Not sure there are any global tensors in the state dict\n",
    "        if isinstance(param, torch.Tensor):\n",
    "            param.data = param.data.to(device)\n",
    "            if param._grad is not None:\n",
    "                param._grad.data = param._grad.data.to(device)\n",
    "        elif isinstance(param, dict):\n",
    "            for subparam in param.values():\n",
    "                if isinstance(subparam, torch.Tensor):\n",
    "                    subparam.data = subparam.data.to(device)\n",
    "                    if subparam._grad is not None:\n",
    "                        subparam._grad.data = subparam._grad.data.to(device)\n",
    "\n",
    "def load_model(model_name, rec_type='', lr_type='constant', learning_rate=1e-4, path='', device='cuda:0'):\n",
    "    if model_name=='Unet':\n",
    "        model=Unet(num_inputs=len(rec_type.split('_'))) #1 a 3 canais\n",
    "    elif model_name=='ResnetUnet':        \n",
    "        model = ResnetUnet(in_channels=len(rec_type.split('_')))\n",
    "    elif model_name=='ConvUNeXt':\n",
    "        model = ConvUNeXt(in_channels=len(rec_type.split('_')),num_classes=1)\n",
    "        #IF TO ADD NEW MODEL IMPLEMENT H#RE\n",
    "    else:\n",
    "        raise Exception('Model not found...')\n",
    "    #model=model.half()\n",
    "    params_to_optimize = [{'params': model.parameters()}]        \n",
    "    lr_type, optimizer,scheduler=define_optimizer(lr_type, learning_rate, params_to_optimize)    \n",
    "    epoch = 0\n",
    "    train_loss=float('inf')\n",
    "    val_loss=float('inf')\n",
    "    \n",
    "    if path!='':\n",
    "        checkpoint = torch.load(path)\n",
    "        model.load_state_dict(checkpoint['model_state_dict'])\n",
    "        optimizer.load_state_dict(checkpoint['optimizer_state_dict'])\n",
    "        scheduler.load_state_dict(checkpoint['scheduler_state_dict'])\n",
    "        epoch = checkpoint['epoch']\n",
    "        train_loss = checkpoint['train_loss']\n",
    "        val_loss = checkpoint['val_loss']\n",
    "    model.to(device)\n",
    "    optimizer_to(optimizer,device)\n",
    "    return (model, optimizer, scheduler, epoch, train_loss, val_loss)"
   ]
  },
  {
   "cell_type": "code",
   "execution_count": 36,
   "metadata": {},
   "outputs": [],
   "source": [
    "def check_csv(csv_filename):\n",
    "    if not os.path.exists(csv_filename):\n",
    "        df_history = pd.DataFrame(columns = ['epoch','lr_scheduler','learning_rate','train_loss','val_loss', 'checkpoint', 'status'])\n",
    "        last_epoch=0\n",
    "        last_checkpoint=''\n",
    "        return df_history, last_epoch, last_checkpoint\n",
    "    folder=csv_filename[:csv_filename.rfind('/')]\n",
    "    lr = float(csv_filename[csv_filename.find('LR_')+3:csv_filename.find('.csv')])\n",
    "    #preparing the csv\n",
    "    df_history=pd.read_csv(csv_filename)\n",
    "    df_history = df_history.loc[:, ~df_history.columns.str.contains('^Unnamed')]\n",
    "    df_history=df_history.drop_duplicates(subset=['epoch'], keep='first')\n",
    "\n",
    "    #find best model (lowest validation loss)\n",
    "    val_sorted_df=df_history.sort_values(by=['val_loss'])\n",
    "    for i, row in val_sorted_df.iterrows():\n",
    "        if os.path.isfile(row['checkpoint']):\n",
    "            best_epoch=row['epoch']\n",
    "            best_checkpoint=row['checkpoint']\n",
    "            break\n",
    "    \n",
    "    #find last saved model\n",
    "    epoch_sorted_df=df_history.sort_values(by=['epoch'], ascending=False)\n",
    "    for i, row in epoch_sorted_df.iterrows():\n",
    "        if os.path.isfile(row['checkpoint']):\n",
    "            last_epoch=row['epoch']\n",
    "            last_checkpoint=row['checkpoint']\n",
    "            break\n",
    "    \n",
    "    #erase rows that do not have a saved model\n",
    "    df_history=df_history[df_history['epoch']<=last_epoch]\n",
    "\n",
    "    files_2_delete=[folder+'/'+f for f in os.listdir(folder) if f.endswith(f'{lr}.pth')]\n",
    "    if best_checkpoint in files_2_delete:\n",
    "        files_2_delete.remove(best_checkpoint)\n",
    "    if last_checkpoint in files_2_delete:\n",
    "        files_2_delete.remove(last_checkpoint)    \n",
    "\n",
    "    for f in files_2_delete:\n",
    "        try:\n",
    "            os.remove(f)            \n",
    "        except:\n",
    "            pass#print(f'couldnt remove {f}')\n",
    "\n",
    "    return df_history, last_epoch, last_checkpoint\n",
    "\n",
    "import pandas as pd\n",
    "\n"
   ]
  },
  {
   "cell_type": "code",
   "execution_count": 37,
   "metadata": {},
   "outputs": [],
   "source": [
    "\n",
    "\n",
    "def train(rec_type, radial_lines, model_name, lr_type, learning_rate, dl_train, dl_val,device,max_epochs):\n",
    "   \n",
    "    path=f'experiments/{model_name}_{radial_lines}lines_{rec_type}'\n",
    "    if not os.path.exists(path):\n",
    "        os.makedirs(path)\n",
    "    \n",
    "    csv_filename= f'{path}/loss_history_{lr_type}LR_{learning_rate}.csv'\n",
    "    df_history, last_epoch, last_checkpoint = check_csv(csv_filename)\n",
    "\n",
    "    (model, optimizer, scheduler, epoch, train_loss, val_loss) = load_model(model_name,  rec_type, lr_type, learning_rate, path=last_checkpoint, device=device)\n",
    "\n",
    "    for epoch in range(epoch,max_epochs-1):\n",
    "\n",
    "        print('EPOCH %d/%d' % (epoch, max_epochs))        \n",
    "        t_train=time.time()\n",
    "        ### Training (use the training function)\n",
    "        train_loss, optimizer, scheduler=train_epoch_den(\n",
    "            model=model, \n",
    "            dataloader=dl_train, \n",
    "            optimizer=optimizer, \n",
    "            scheduler=scheduler)\n",
    "        t_train=time.time()-t_train\n",
    "        t_val=time.time()\n",
    "        ### Validation  (use the testing function)\n",
    "        val_loss = test_epoch_den(\n",
    "            model=model, \n",
    "            dataloader=dl_val,\n",
    "            )\n",
    "        t_val=time.time()-t_val\n",
    "\n",
    "        train_loss=train_loss if not torch.is_tensor(train_loss) else train_loss.cpu().detach().numpy()\n",
    "        val_loss=val_loss if not torch.is_tensor(val_loss) else val_loss.cpu().detach().numpy()\n",
    "\n",
    "        filename=f'{path}/{model.name()}_{radial_lines}lines_{rec_type}_epoch{epoch}_{lr_type}LR_{scheduler.get_last_lr()[0]}.pth'        \n",
    "        \n",
    "        minimum_value=df_history['val_loss'].min() if len(df_history)>0 else float('inf')\n",
    "\n",
    "        if val_loss<=minimum_value:           \n",
    "            save_model(filename, epoch, model, optimizer, scheduler, train_loss, val_loss)\n",
    "            status='new best'\n",
    "            df_history.replace(to_replace=\"new best\", value='old best')\n",
    "            best_model=filename\n",
    "            print(f'new best loss: {val_loss}')\n",
    "        else:\n",
    "            status='never best'    \n",
    "        print(scheduler.get_lr())\n",
    "        print(scheduler.get_last_lr())\n",
    "        print(scheduler.state_dict())\n",
    "        df_history = pd.concat([df_history,\n",
    "                                  pd.DataFrame({'epoch':[epoch],\n",
    "                                                'lr_scheduler':[lr_type],\n",
    "                                                'learning_rate':[scheduler.get_last_lr()[0]],#optimizer.param_groups[0][\"lr\"]],\n",
    "                                                'train_loss':[train_loss],\n",
    "                                                'val_loss':[val_loss], \n",
    "                                                'checkpoint':[filename], \n",
    "                                                'status':[status],\n",
    "                                                'time_train':[t_train],\n",
    "                                                'time_val':[t_val]\n",
    "                                                })])\n",
    "        df_history = df_history.loc[:, ~df_history.columns.str.contains('^Unnamed')]\n",
    "        \n",
    "        df_history.to_csv(csv_filename)       \n",
    "        last_model=filename       \n",
    "\n",
    "\n",
    "    return df_history\n",
    "\n",
    "\n"
   ]
  },
  {
   "cell_type": "markdown",
   "metadata": {},
   "source": []
  },
  {
   "cell_type": "code",
   "execution_count": 38,
   "metadata": {},
   "outputs": [
    {
     "name": "stdout",
     "output_type": "stream",
     "text": [
      "CPU times: user 19 µs, sys: 0 ns, total: 19 µs\n",
      "Wall time: 21.9 µs\n"
     ]
    }
   ],
   "source": [
    "%%time\n",
    "import mlflow\n",
    "from sklearn.model_selection import ParameterGrid\n",
    "\n",
    "def execute(num_radial_lines, data_train, data_val, data_test, device, exp_params):\n",
    "    experiment_name=f\"MRIREC_{num_radial_lines}\"\n",
    "    run_params = {\"description\":f\"Reconstruction using {num_radial_lines} radial lines\",\n",
    "              \"tags\":{'release.version':'1.0.0'}}\n",
    "    experiment = mlflow.get_experiment_by_name(experiment_name)\n",
    "    if not experiment:\n",
    "        experiment_id=mlflow.create_experiment(experiment_name)\n",
    "    experiment = mlflow.set_experiment(experiment_name)\n",
    "    \n",
    "    run_params.update({\"experiment_id\": experiment.experiment_id})\n",
    "    \n",
    "    print(\"Experiment_id: {}\".format(experiment.experiment_id))\n",
    "    print(\"Localização dos artefatos: {}\".format(experiment.artifact_location))\n",
    "    print(\"Tags: {}\".format(experiment.tags))\n",
    "    print(\"Lifecycle_stage: {}\".format(experiment.lifecycle_stage))\n",
    "\n",
    "    grid_exp = ParameterGrid(exp_params)\n",
    "\n",
    "    for p_model in grid_exp:\n",
    "        with mlflow.start_run(**run_params) as run:\n",
    "\n",
    "            mlflow.log_params({'model': p_model['model'], 'rectype': p_model['rectype'], 'max_epochs': p_model['max_epochs'], 'learning_rate': p_model['learning_rate'], 'batch_size': p_model['batch_size']})\n",
    "\n",
    "            print(p_model)\n",
    "            model = p_model['model']\n",
    "            rectype = p_model['rectype']\n",
    "            num_channels = len(rectype.split('_'))\n",
    "            epochs = p_model['max_epochs']\n",
    "            lr_type, learning_rate = p_model['learning_rate']\n",
    "            batch_size = p_model['batch_size']\n",
    "\n",
    "            train_ds= OriginalReconstructionDataset(num_radial_lines, rectype, dataset_dir, train_indexes)\n",
    "            train_dl= DeviceDataLoader(torch.utils.data.DataLoader(train_ds, batch_size=batch_size), device)\n",
    "            val_ds=OriginalReconstructionDataset(num_radial_lines, rectype, dataset_dir, test_indexes)\n",
    "            val_dl= DeviceDataLoader(torch.utils.data.DataLoader(train_ds, batch_size=batch_size), device)\n",
    "\n",
    "            #train loop:\n",
    "            history=train(rectype, num_radial_lines, model, lr_type, learning_rate, train_dl, val_dl, device,epochs)\n",
    "            \n",
    "            #display(history)\n",
    "            #print(history.val_loss.dtype)\n",
    "            #print(type(history.val_loss[0]))\n",
    "            #chosen_idx=history[['val_loss']].idxmin()[0]\n",
    "\n",
    "            #mlflow.log_metric('best_train_loss',history.at[chosen_idx,'train_loss'])\n",
    "            #mlflow.log_metric('best_val_loss',history.at[chosen_idx,'val_loss'])\n",
    "            #mlflow.log_metric('epoch',history.at[chosen_idx,'epoch'])\n",
    "            #mlflow.log_metric('checkpoint',history.at[chosen_idx,'checkpoint'])\n",
    "            \n"
   ]
  },
  {
   "cell_type": "code",
   "execution_count": 39,
   "metadata": {},
   "outputs": [
    {
     "name": "stdout",
     "output_type": "stream",
     "text": [
      "Experiment_id: 589449198711370880\n",
      "Localização dos artefatos: file:///home/jonathan/MRI_unet_reconstruction/mlruns/589449198711370880\n",
      "Tags: {}\n",
      "Lifecycle_stage: active\n",
      "{'batch_size': 2, 'learning_rate': ('step10', 0.001), 'max_epochs': 30, 'model': 'Unet', 'rectype': 'L2'}\n",
      "{'batch_size': 2, 'learning_rate': ('step10', 0.001), 'max_epochs': 30, 'model': 'Unet', 'rectype': 'L1'}\n",
      "{'batch_size': 2, 'learning_rate': ('step10', 0.001), 'max_epochs': 30, 'model': 'Unet', 'rectype': 'TV'}\n",
      "{'batch_size': 2, 'learning_rate': ('step10', 0.001), 'max_epochs': 30, 'model': 'Unet', 'rectype': 'L2_L1'}\n",
      "{'batch_size': 2, 'learning_rate': ('step10', 0.001), 'max_epochs': 30, 'model': 'Unet', 'rectype': 'L2_TV'}\n",
      "{'batch_size': 2, 'learning_rate': ('step10', 0.001), 'max_epochs': 30, 'model': 'Unet', 'rectype': 'L1_TV'}\n",
      "{'batch_size': 2, 'learning_rate': ('step10', 0.001), 'max_epochs': 30, 'model': 'Unet', 'rectype': 'L2_L1_TV'}\n",
      "EPOCH 28/30\n"
     ]
    },
    {
     "name": "stderr",
     "output_type": "stream",
     "text": [
      "100%|██████████| 1608/1608 [03:04<00:00,  8.73it/s]\n",
      "100%|██████████| 1608/1608 [00:52<00:00, 30.84it/s]\n",
      "/home/jonathan/.local/lib/python3.10/site-packages/torch/optim/lr_scheduler.py:483: UserWarning: To get the last learning rate computed by the scheduler, please use `get_last_lr()`.\n",
      "  warnings.warn(\"To get the last learning rate computed by the scheduler, \"\n"
     ]
    },
    {
     "name": "stdout",
     "output_type": "stream",
     "text": [
      "[0.001]\n",
      "[0.001]\n",
      "{'factor': 1, 'total_iters': 5, 'base_lrs': [0.001], 'last_epoch': 26532, 'verbose': False, '_step_count': 26533, '_get_lr_called_within_step': False, '_last_lr': [0.001]}\n",
      "{'batch_size': 2, 'learning_rate': ('step10', 0.001), 'max_epochs': 30, 'model': 'ResnetUnet', 'rectype': 'L2'}\n",
      "{'batch_size': 2, 'learning_rate': ('step10', 0.001), 'max_epochs': 30, 'model': 'ResnetUnet', 'rectype': 'L1'}\n",
      "{'batch_size': 2, 'learning_rate': ('step10', 0.001), 'max_epochs': 30, 'model': 'ResnetUnet', 'rectype': 'TV'}\n",
      "{'batch_size': 2, 'learning_rate': ('step10', 0.001), 'max_epochs': 30, 'model': 'ResnetUnet', 'rectype': 'L2_L1'}\n",
      "EPOCH 28/30\n"
     ]
    },
    {
     "name": "stderr",
     "output_type": "stream",
     "text": [
      "100%|██████████| 1608/1608 [03:03<00:00,  8.77it/s]\n",
      "100%|██████████| 1608/1608 [00:45<00:00, 35.26it/s]\n"
     ]
    },
    {
     "name": "stdout",
     "output_type": "stream",
     "text": [
      "new best loss: 33.048004150390625\n",
      "[0.001]\n",
      "[0.001]\n",
      "{'factor': 1, 'total_iters': 5, 'base_lrs': [0.001], 'last_epoch': 29748, 'verbose': False, '_step_count': 29749, '_get_lr_called_within_step': False, '_last_lr': [0.001]}\n",
      "{'batch_size': 2, 'learning_rate': ('step10', 0.001), 'max_epochs': 30, 'model': 'ResnetUnet', 'rectype': 'L2_TV'}\n"
     ]
    },
    {
     "name": "stderr",
     "output_type": "stream",
     "text": [
      "/home/jonathan/.local/lib/python3.10/site-packages/torch/optim/lr_scheduler.py:483: UserWarning: To get the last learning rate computed by the scheduler, please use `get_last_lr()`.\n",
      "  warnings.warn(\"To get the last learning rate computed by the scheduler, \"\n"
     ]
    },
    {
     "name": "stdout",
     "output_type": "stream",
     "text": [
      "{'batch_size': 2, 'learning_rate': ('step10', 0.001), 'max_epochs': 30, 'model': 'ResnetUnet', 'rectype': 'L1_TV'}\n",
      "{'batch_size': 2, 'learning_rate': ('step10', 0.001), 'max_epochs': 30, 'model': 'ResnetUnet', 'rectype': 'L2_L1_TV'}\n",
      "{'batch_size': 2, 'learning_rate': ('step10', 0.001), 'max_epochs': 30, 'model': 'ConvUNeXt', 'rectype': 'L2'}\n",
      "EPOCH 26/30\n"
     ]
    },
    {
     "name": "stderr",
     "output_type": "stream",
     "text": [
      "100%|██████████| 1608/1608 [03:54<00:00,  6.86it/s]\n",
      "100%|██████████| 1608/1608 [01:07<00:00, 23.96it/s]\n",
      "/home/jonathan/.local/lib/python3.10/site-packages/torch/optim/lr_scheduler.py:483: UserWarning: To get the last learning rate computed by the scheduler, please use `get_last_lr()`.\n",
      "  warnings.warn(\"To get the last learning rate computed by the scheduler, \"\n"
     ]
    },
    {
     "name": "stdout",
     "output_type": "stream",
     "text": [
      "[0.001]\n",
      "[0.001]\n",
      "{'factor': 1, 'total_iters': 5, 'base_lrs': [0.001], 'last_epoch': 45024, 'verbose': False, '_step_count': 45025, '_get_lr_called_within_step': False, '_last_lr': [0.001]}\n",
      "EPOCH 27/30\n"
     ]
    },
    {
     "name": "stderr",
     "output_type": "stream",
     "text": [
      "100%|██████████| 1608/1608 [03:55<00:00,  6.83it/s]\n",
      "100%|██████████| 1608/1608 [01:06<00:00, 24.01it/s]\n",
      "/home/jonathan/.local/lib/python3.10/site-packages/torch/optim/lr_scheduler.py:483: UserWarning: To get the last learning rate computed by the scheduler, please use `get_last_lr()`.\n",
      "  warnings.warn(\"To get the last learning rate computed by the scheduler, \"\n"
     ]
    },
    {
     "name": "stdout",
     "output_type": "stream",
     "text": [
      "[0.001]\n",
      "[0.001]\n",
      "{'factor': 1, 'total_iters': 5, 'base_lrs': [0.001], 'last_epoch': 46632, 'verbose': False, '_step_count': 46633, '_get_lr_called_within_step': False, '_last_lr': [0.001]}\n",
      "EPOCH 28/30\n"
     ]
    },
    {
     "name": "stderr",
     "output_type": "stream",
     "text": [
      "100%|██████████| 1608/1608 [03:55<00:00,  6.83it/s]\n",
      "100%|██████████| 1608/1608 [01:07<00:00, 23.88it/s]\n",
      "/home/jonathan/.local/lib/python3.10/site-packages/torch/optim/lr_scheduler.py:483: UserWarning: To get the last learning rate computed by the scheduler, please use `get_last_lr()`.\n",
      "  warnings.warn(\"To get the last learning rate computed by the scheduler, \"\n"
     ]
    },
    {
     "name": "stdout",
     "output_type": "stream",
     "text": [
      "[0.001]\n",
      "[0.001]\n",
      "{'factor': 1, 'total_iters': 5, 'base_lrs': [0.001], 'last_epoch': 48240, 'verbose': False, '_step_count': 48241, '_get_lr_called_within_step': False, '_last_lr': [0.001]}\n",
      "{'batch_size': 2, 'learning_rate': ('step10', 0.001), 'max_epochs': 30, 'model': 'ConvUNeXt', 'rectype': 'L1'}\n",
      "EPOCH 27/30\n"
     ]
    },
    {
     "name": "stderr",
     "output_type": "stream",
     "text": [
      "100%|██████████| 1608/1608 [03:55<00:00,  6.82it/s]\n",
      "100%|██████████| 1608/1608 [01:07<00:00, 23.88it/s]\n",
      "/home/jonathan/.local/lib/python3.10/site-packages/torch/optim/lr_scheduler.py:483: UserWarning: To get the last learning rate computed by the scheduler, please use `get_last_lr()`.\n",
      "  warnings.warn(\"To get the last learning rate computed by the scheduler, \"\n"
     ]
    },
    {
     "name": "stdout",
     "output_type": "stream",
     "text": [
      "[0.001]\n",
      "[0.001]\n",
      "{'factor': 1, 'total_iters': 5, 'base_lrs': [0.001], 'last_epoch': 46632, 'verbose': False, '_step_count': 46633, '_get_lr_called_within_step': False, '_last_lr': [0.001]}\n",
      "EPOCH 28/30\n"
     ]
    },
    {
     "name": "stderr",
     "output_type": "stream",
     "text": [
      "100%|██████████| 1608/1608 [03:55<00:00,  6.83it/s]\n",
      "100%|██████████| 1608/1608 [01:07<00:00, 23.93it/s]\n",
      "/home/jonathan/.local/lib/python3.10/site-packages/torch/optim/lr_scheduler.py:483: UserWarning: To get the last learning rate computed by the scheduler, please use `get_last_lr()`.\n",
      "  warnings.warn(\"To get the last learning rate computed by the scheduler, \"\n"
     ]
    },
    {
     "name": "stdout",
     "output_type": "stream",
     "text": [
      "[0.001]\n",
      "[0.001]\n",
      "{'factor': 1, 'total_iters': 5, 'base_lrs': [0.001], 'last_epoch': 48240, 'verbose': False, '_step_count': 48241, '_get_lr_called_within_step': False, '_last_lr': [0.001]}\n",
      "{'batch_size': 2, 'learning_rate': ('step10', 0.001), 'max_epochs': 30, 'model': 'ConvUNeXt', 'rectype': 'TV'}\n",
      "EPOCH 28/30\n"
     ]
    },
    {
     "name": "stderr",
     "output_type": "stream",
     "text": [
      "100%|██████████| 1608/1608 [03:55<00:00,  6.83it/s]\n",
      "100%|██████████| 1608/1608 [01:07<00:00, 23.88it/s]\n",
      "/home/jonathan/.local/lib/python3.10/site-packages/torch/optim/lr_scheduler.py:483: UserWarning: To get the last learning rate computed by the scheduler, please use `get_last_lr()`.\n",
      "  warnings.warn(\"To get the last learning rate computed by the scheduler, \"\n"
     ]
    },
    {
     "name": "stdout",
     "output_type": "stream",
     "text": [
      "[0.001]\n",
      "[0.001]\n",
      "{'factor': 1, 'total_iters': 5, 'base_lrs': [0.001], 'last_epoch': 48240, 'verbose': False, '_step_count': 48241, '_get_lr_called_within_step': False, '_last_lr': [0.001]}\n",
      "{'batch_size': 2, 'learning_rate': ('step10', 0.001), 'max_epochs': 30, 'model': 'ConvUNeXt', 'rectype': 'L2_L1'}\n",
      "EPOCH 28/30\n"
     ]
    },
    {
     "name": "stderr",
     "output_type": "stream",
     "text": [
      "100%|██████████| 1608/1608 [03:59<00:00,  6.70it/s]\n",
      "100%|██████████| 1608/1608 [01:07<00:00, 23.75it/s]\n",
      "/home/jonathan/.local/lib/python3.10/site-packages/torch/optim/lr_scheduler.py:483: UserWarning: To get the last learning rate computed by the scheduler, please use `get_last_lr()`.\n",
      "  warnings.warn(\"To get the last learning rate computed by the scheduler, \"\n"
     ]
    },
    {
     "name": "stdout",
     "output_type": "stream",
     "text": [
      "[0.001]\n",
      "[0.001]\n",
      "{'factor': 1, 'total_iters': 5, 'base_lrs': [0.001], 'last_epoch': 48240, 'verbose': False, '_step_count': 48241, '_get_lr_called_within_step': False, '_last_lr': [0.001]}\n",
      "{'batch_size': 2, 'learning_rate': ('step10', 0.001), 'max_epochs': 30, 'model': 'ConvUNeXt', 'rectype': 'L2_TV'}\n",
      "EPOCH 26/30\n"
     ]
    },
    {
     "name": "stderr",
     "output_type": "stream",
     "text": [
      "100%|██████████| 1608/1608 [03:59<00:00,  6.71it/s]\n",
      "100%|██████████| 1608/1608 [01:07<00:00, 23.74it/s]\n",
      "/home/jonathan/.local/lib/python3.10/site-packages/torch/optim/lr_scheduler.py:483: UserWarning: To get the last learning rate computed by the scheduler, please use `get_last_lr()`.\n",
      "  warnings.warn(\"To get the last learning rate computed by the scheduler, \"\n"
     ]
    },
    {
     "name": "stdout",
     "output_type": "stream",
     "text": [
      "[0.001]\n",
      "[0.001]\n",
      "{'factor': 1, 'total_iters': 5, 'base_lrs': [0.001], 'last_epoch': 45024, 'verbose': False, '_step_count': 45025, '_get_lr_called_within_step': False, '_last_lr': [0.001]}\n",
      "EPOCH 27/30\n"
     ]
    },
    {
     "name": "stderr",
     "output_type": "stream",
     "text": [
      "100%|██████████| 1608/1608 [03:59<00:00,  6.71it/s]\n",
      "100%|██████████| 1608/1608 [01:07<00:00, 23.78it/s]\n",
      "/home/jonathan/.local/lib/python3.10/site-packages/torch/optim/lr_scheduler.py:483: UserWarning: To get the last learning rate computed by the scheduler, please use `get_last_lr()`.\n",
      "  warnings.warn(\"To get the last learning rate computed by the scheduler, \"\n"
     ]
    },
    {
     "name": "stdout",
     "output_type": "stream",
     "text": [
      "[0.001]\n",
      "[0.001]\n",
      "{'factor': 1, 'total_iters': 5, 'base_lrs': [0.001], 'last_epoch': 46632, 'verbose': False, '_step_count': 46633, '_get_lr_called_within_step': False, '_last_lr': [0.001]}\n",
      "EPOCH 28/30\n"
     ]
    },
    {
     "name": "stderr",
     "output_type": "stream",
     "text": [
      "100%|██████████| 1608/1608 [03:59<00:00,  6.70it/s]\n",
      "100%|██████████| 1608/1608 [01:07<00:00, 23.80it/s]\n",
      "/home/jonathan/.local/lib/python3.10/site-packages/torch/optim/lr_scheduler.py:483: UserWarning: To get the last learning rate computed by the scheduler, please use `get_last_lr()`.\n",
      "  warnings.warn(\"To get the last learning rate computed by the scheduler, \"\n"
     ]
    },
    {
     "name": "stdout",
     "output_type": "stream",
     "text": [
      "[0.001]\n",
      "[0.001]\n",
      "{'factor': 1, 'total_iters': 5, 'base_lrs': [0.001], 'last_epoch': 48240, 'verbose': False, '_step_count': 48241, '_get_lr_called_within_step': False, '_last_lr': [0.001]}\n",
      "{'batch_size': 2, 'learning_rate': ('step10', 0.001), 'max_epochs': 30, 'model': 'ConvUNeXt', 'rectype': 'L1_TV'}\n",
      "EPOCH 25/30\n"
     ]
    },
    {
     "name": "stderr",
     "output_type": "stream",
     "text": [
      "100%|██████████| 1608/1608 [03:59<00:00,  6.72it/s]\n",
      "100%|██████████| 1608/1608 [01:07<00:00, 23.83it/s]\n",
      "/home/jonathan/.local/lib/python3.10/site-packages/torch/optim/lr_scheduler.py:483: UserWarning: To get the last learning rate computed by the scheduler, please use `get_last_lr()`.\n",
      "  warnings.warn(\"To get the last learning rate computed by the scheduler, \"\n"
     ]
    },
    {
     "name": "stdout",
     "output_type": "stream",
     "text": [
      "[0.001]\n",
      "[0.001]\n",
      "{'factor': 1, 'total_iters': 5, 'base_lrs': [0.001], 'last_epoch': 43416, 'verbose': False, '_step_count': 43417, '_get_lr_called_within_step': False, '_last_lr': [0.001]}\n",
      "EPOCH 26/30\n"
     ]
    },
    {
     "name": "stderr",
     "output_type": "stream",
     "text": [
      "100%|██████████| 1608/1608 [03:59<00:00,  6.72it/s]\n",
      "100%|██████████| 1608/1608 [01:07<00:00, 23.80it/s]\n",
      "/home/jonathan/.local/lib/python3.10/site-packages/torch/optim/lr_scheduler.py:483: UserWarning: To get the last learning rate computed by the scheduler, please use `get_last_lr()`.\n",
      "  warnings.warn(\"To get the last learning rate computed by the scheduler, \"\n"
     ]
    },
    {
     "name": "stdout",
     "output_type": "stream",
     "text": [
      "[0.001]\n",
      "[0.001]\n",
      "{'factor': 1, 'total_iters': 5, 'base_lrs': [0.001], 'last_epoch': 45024, 'verbose': False, '_step_count': 45025, '_get_lr_called_within_step': False, '_last_lr': [0.001]}\n",
      "EPOCH 27/30\n"
     ]
    },
    {
     "name": "stderr",
     "output_type": "stream",
     "text": [
      "100%|██████████| 1608/1608 [03:59<00:00,  6.71it/s]\n",
      "100%|██████████| 1608/1608 [01:07<00:00, 23.89it/s]\n",
      "/home/jonathan/.local/lib/python3.10/site-packages/torch/optim/lr_scheduler.py:483: UserWarning: To get the last learning rate computed by the scheduler, please use `get_last_lr()`.\n",
      "  warnings.warn(\"To get the last learning rate computed by the scheduler, \"\n"
     ]
    },
    {
     "name": "stdout",
     "output_type": "stream",
     "text": [
      "[0.001]\n",
      "[0.001]\n",
      "{'factor': 1, 'total_iters': 5, 'base_lrs': [0.001], 'last_epoch': 46632, 'verbose': False, '_step_count': 46633, '_get_lr_called_within_step': False, '_last_lr': [0.001]}\n",
      "EPOCH 28/30\n"
     ]
    },
    {
     "name": "stderr",
     "output_type": "stream",
     "text": [
      "100%|██████████| 1608/1608 [03:59<00:00,  6.72it/s]\n",
      "100%|██████████| 1608/1608 [01:07<00:00, 23.74it/s]\n",
      "/home/jonathan/.local/lib/python3.10/site-packages/torch/optim/lr_scheduler.py:483: UserWarning: To get the last learning rate computed by the scheduler, please use `get_last_lr()`.\n",
      "  warnings.warn(\"To get the last learning rate computed by the scheduler, \"\n"
     ]
    },
    {
     "name": "stdout",
     "output_type": "stream",
     "text": [
      "[0.001]\n",
      "[0.001]\n",
      "{'factor': 1, 'total_iters': 5, 'base_lrs': [0.001], 'last_epoch': 48240, 'verbose': False, '_step_count': 48241, '_get_lr_called_within_step': False, '_last_lr': [0.001]}\n",
      "{'batch_size': 2, 'learning_rate': ('step10', 0.001), 'max_epochs': 30, 'model': 'ConvUNeXt', 'rectype': 'L2_L1_TV'}\n",
      "EPOCH 28/30\n"
     ]
    },
    {
     "name": "stderr",
     "output_type": "stream",
     "text": [
      "100%|██████████| 1608/1608 [04:04<00:00,  6.59it/s]\n",
      "100%|██████████| 1608/1608 [01:08<00:00, 23.53it/s]\n",
      "/home/jonathan/.local/lib/python3.10/site-packages/torch/optim/lr_scheduler.py:483: UserWarning: To get the last learning rate computed by the scheduler, please use `get_last_lr()`.\n",
      "  warnings.warn(\"To get the last learning rate computed by the scheduler, \"\n"
     ]
    },
    {
     "name": "stdout",
     "output_type": "stream",
     "text": [
      "[0.001]\n",
      "[0.001]\n",
      "{'factor': 1, 'total_iters': 5, 'base_lrs': [0.001], 'last_epoch': 48240, 'verbose': False, '_step_count': 48241, '_get_lr_called_within_step': False, '_last_lr': [0.001]}\n",
      "Experiment_id: 823863492700651816\n",
      "Localização dos artefatos: file:///home/jonathan/MRI_unet_reconstruction/mlruns/823863492700651816\n",
      "Tags: {}\n",
      "Lifecycle_stage: active\n",
      "{'batch_size': 2, 'learning_rate': ('step10', 0.001), 'max_epochs': 30, 'model': 'Unet', 'rectype': 'L2'}\n",
      "{'batch_size': 2, 'learning_rate': ('step10', 0.001), 'max_epochs': 30, 'model': 'Unet', 'rectype': 'L1'}\n",
      "{'batch_size': 2, 'learning_rate': ('step10', 0.001), 'max_epochs': 30, 'model': 'Unet', 'rectype': 'TV'}\n",
      "EPOCH 26/30\n"
     ]
    },
    {
     "name": "stderr",
     "output_type": "stream",
     "text": [
      "100%|██████████| 1608/1608 [02:55<00:00,  9.15it/s]\n",
      "100%|██████████| 1608/1608 [00:52<00:00, 30.72it/s]\n",
      "/home/jonathan/.local/lib/python3.10/site-packages/torch/optim/lr_scheduler.py:483: UserWarning: To get the last learning rate computed by the scheduler, please use `get_last_lr()`.\n",
      "  warnings.warn(\"To get the last learning rate computed by the scheduler, \"\n"
     ]
    },
    {
     "name": "stdout",
     "output_type": "stream",
     "text": [
      "[0.001]\n",
      "[0.001]\n",
      "{'factor': 1, 'total_iters': 5, 'base_lrs': [0.001], 'last_epoch': 23316, 'verbose': False, '_step_count': 23317, '_get_lr_called_within_step': False, '_last_lr': [0.001]}\n",
      "EPOCH 27/30\n"
     ]
    },
    {
     "name": "stderr",
     "output_type": "stream",
     "text": [
      "100%|██████████| 1608/1608 [02:55<00:00,  9.15it/s]\n",
      "100%|██████████| 1608/1608 [00:52<00:00, 30.63it/s]\n",
      "/home/jonathan/.local/lib/python3.10/site-packages/torch/optim/lr_scheduler.py:483: UserWarning: To get the last learning rate computed by the scheduler, please use `get_last_lr()`.\n",
      "  warnings.warn(\"To get the last learning rate computed by the scheduler, \"\n"
     ]
    },
    {
     "name": "stdout",
     "output_type": "stream",
     "text": [
      "[0.001]\n",
      "[0.001]\n",
      "{'factor': 1, 'total_iters': 5, 'base_lrs': [0.001], 'last_epoch': 24924, 'verbose': False, '_step_count': 24925, '_get_lr_called_within_step': False, '_last_lr': [0.001]}\n",
      "EPOCH 28/30\n"
     ]
    },
    {
     "name": "stderr",
     "output_type": "stream",
     "text": [
      "100%|██████████| 1608/1608 [02:55<00:00,  9.15it/s]\n",
      "100%|██████████| 1608/1608 [00:52<00:00, 30.47it/s]\n",
      "/home/jonathan/.local/lib/python3.10/site-packages/torch/optim/lr_scheduler.py:483: UserWarning: To get the last learning rate computed by the scheduler, please use `get_last_lr()`.\n",
      "  warnings.warn(\"To get the last learning rate computed by the scheduler, \"\n"
     ]
    },
    {
     "name": "stdout",
     "output_type": "stream",
     "text": [
      "[0.001]\n",
      "[0.001]\n",
      "{'factor': 1, 'total_iters': 5, 'base_lrs': [0.001], 'last_epoch': 26532, 'verbose': False, '_step_count': 26533, '_get_lr_called_within_step': False, '_last_lr': [0.001]}\n",
      "{'batch_size': 2, 'learning_rate': ('step10', 0.001), 'max_epochs': 30, 'model': 'Unet', 'rectype': 'L2_L1'}\n",
      "{'batch_size': 2, 'learning_rate': ('step10', 0.001), 'max_epochs': 30, 'model': 'Unet', 'rectype': 'L2_TV'}\n",
      "EPOCH 22/30\n"
     ]
    },
    {
     "name": "stderr",
     "output_type": "stream",
     "text": [
      "100%|██████████| 1608/1608 [02:59<00:00,  8.94it/s]\n",
      "100%|██████████| 1608/1608 [00:52<00:00, 30.43it/s]\n",
      "/home/jonathan/.local/lib/python3.10/site-packages/torch/optim/lr_scheduler.py:483: UserWarning: To get the last learning rate computed by the scheduler, please use `get_last_lr()`.\n",
      "  warnings.warn(\"To get the last learning rate computed by the scheduler, \"\n"
     ]
    },
    {
     "name": "stdout",
     "output_type": "stream",
     "text": [
      "[0.001]\n",
      "[0.001]\n",
      "{'factor': 1, 'total_iters': 5, 'base_lrs': [0.001], 'last_epoch': 20100, 'verbose': False, '_step_count': 20101, '_get_lr_called_within_step': False, '_last_lr': [0.001]}\n",
      "EPOCH 23/30\n"
     ]
    },
    {
     "name": "stderr",
     "output_type": "stream",
     "text": [
      "100%|██████████| 1608/1608 [03:00<00:00,  8.93it/s]\n",
      "100%|██████████| 1608/1608 [00:52<00:00, 30.56it/s]\n",
      "/home/jonathan/.local/lib/python3.10/site-packages/torch/optim/lr_scheduler.py:483: UserWarning: To get the last learning rate computed by the scheduler, please use `get_last_lr()`.\n",
      "  warnings.warn(\"To get the last learning rate computed by the scheduler, \"\n"
     ]
    },
    {
     "name": "stdout",
     "output_type": "stream",
     "text": [
      "[0.001]\n",
      "[0.001]\n",
      "{'factor': 1, 'total_iters': 5, 'base_lrs': [0.001], 'last_epoch': 21708, 'verbose': False, '_step_count': 21709, '_get_lr_called_within_step': False, '_last_lr': [0.001]}\n",
      "EPOCH 24/30\n"
     ]
    },
    {
     "name": "stderr",
     "output_type": "stream",
     "text": [
      "100%|██████████| 1608/1608 [02:59<00:00,  8.94it/s]\n",
      "100%|██████████| 1608/1608 [00:52<00:00, 30.45it/s]\n",
      "/home/jonathan/.local/lib/python3.10/site-packages/torch/optim/lr_scheduler.py:483: UserWarning: To get the last learning rate computed by the scheduler, please use `get_last_lr()`.\n",
      "  warnings.warn(\"To get the last learning rate computed by the scheduler, \"\n"
     ]
    },
    {
     "name": "stdout",
     "output_type": "stream",
     "text": [
      "[0.001]\n",
      "[0.001]\n",
      "{'factor': 1, 'total_iters': 5, 'base_lrs': [0.001], 'last_epoch': 23316, 'verbose': False, '_step_count': 23317, '_get_lr_called_within_step': False, '_last_lr': [0.001]}\n",
      "EPOCH 25/30\n"
     ]
    },
    {
     "name": "stderr",
     "output_type": "stream",
     "text": [
      "100%|██████████| 1608/1608 [02:59<00:00,  8.95it/s]\n",
      "100%|██████████| 1608/1608 [00:52<00:00, 30.52it/s]\n",
      "/home/jonathan/.local/lib/python3.10/site-packages/torch/optim/lr_scheduler.py:483: UserWarning: To get the last learning rate computed by the scheduler, please use `get_last_lr()`.\n",
      "  warnings.warn(\"To get the last learning rate computed by the scheduler, \"\n"
     ]
    },
    {
     "name": "stdout",
     "output_type": "stream",
     "text": [
      "[0.001]\n",
      "[0.001]\n",
      "{'factor': 1, 'total_iters': 5, 'base_lrs': [0.001], 'last_epoch': 24924, 'verbose': False, '_step_count': 24925, '_get_lr_called_within_step': False, '_last_lr': [0.001]}\n",
      "EPOCH 26/30\n"
     ]
    },
    {
     "name": "stderr",
     "output_type": "stream",
     "text": [
      "100%|██████████| 1608/1608 [02:59<00:00,  8.95it/s]\n",
      "100%|██████████| 1608/1608 [00:52<00:00, 30.65it/s]\n",
      "/home/jonathan/.local/lib/python3.10/site-packages/torch/optim/lr_scheduler.py:483: UserWarning: To get the last learning rate computed by the scheduler, please use `get_last_lr()`.\n",
      "  warnings.warn(\"To get the last learning rate computed by the scheduler, \"\n"
     ]
    },
    {
     "name": "stdout",
     "output_type": "stream",
     "text": [
      "[0.001]\n",
      "[0.001]\n",
      "{'factor': 1, 'total_iters': 5, 'base_lrs': [0.001], 'last_epoch': 26532, 'verbose': False, '_step_count': 26533, '_get_lr_called_within_step': False, '_last_lr': [0.001]}\n",
      "EPOCH 27/30\n"
     ]
    },
    {
     "name": "stderr",
     "output_type": "stream",
     "text": [
      "100%|██████████| 1608/1608 [02:59<00:00,  8.95it/s]\n",
      "100%|██████████| 1608/1608 [00:52<00:00, 30.59it/s]\n",
      "/home/jonathan/.local/lib/python3.10/site-packages/torch/optim/lr_scheduler.py:483: UserWarning: To get the last learning rate computed by the scheduler, please use `get_last_lr()`.\n",
      "  warnings.warn(\"To get the last learning rate computed by the scheduler, \"\n"
     ]
    },
    {
     "name": "stdout",
     "output_type": "stream",
     "text": [
      "[0.001]\n",
      "[0.001]\n",
      "{'factor': 1, 'total_iters': 5, 'base_lrs': [0.001], 'last_epoch': 28140, 'verbose': False, '_step_count': 28141, '_get_lr_called_within_step': False, '_last_lr': [0.001]}\n",
      "EPOCH 28/30\n"
     ]
    },
    {
     "name": "stderr",
     "output_type": "stream",
     "text": [
      "100%|██████████| 1608/1608 [02:59<00:00,  8.95it/s]\n",
      "100%|██████████| 1608/1608 [00:52<00:00, 30.73it/s]\n",
      "/home/jonathan/.local/lib/python3.10/site-packages/torch/optim/lr_scheduler.py:483: UserWarning: To get the last learning rate computed by the scheduler, please use `get_last_lr()`.\n",
      "  warnings.warn(\"To get the last learning rate computed by the scheduler, \"\n"
     ]
    },
    {
     "name": "stdout",
     "output_type": "stream",
     "text": [
      "[0.001]\n",
      "[0.001]\n",
      "{'factor': 1, 'total_iters': 5, 'base_lrs': [0.001], 'last_epoch': 29748, 'verbose': False, '_step_count': 29749, '_get_lr_called_within_step': False, '_last_lr': [0.001]}\n",
      "{'batch_size': 2, 'learning_rate': ('step10', 0.001), 'max_epochs': 30, 'model': 'Unet', 'rectype': 'L1_TV'}\n",
      "{'batch_size': 2, 'learning_rate': ('step10', 0.001), 'max_epochs': 30, 'model': 'Unet', 'rectype': 'L2_L1_TV'}\n",
      "EPOCH 22/30\n"
     ]
    },
    {
     "name": "stderr",
     "output_type": "stream",
     "text": [
      "100%|██████████| 1608/1608 [03:03<00:00,  8.77it/s]\n",
      "100%|██████████| 1608/1608 [00:53<00:00, 30.18it/s]\n",
      "/home/jonathan/.local/lib/python3.10/site-packages/torch/optim/lr_scheduler.py:483: UserWarning: To get the last learning rate computed by the scheduler, please use `get_last_lr()`.\n",
      "  warnings.warn(\"To get the last learning rate computed by the scheduler, \"\n"
     ]
    },
    {
     "name": "stdout",
     "output_type": "stream",
     "text": [
      "[0.001]\n",
      "[0.001]\n",
      "{'factor': 1, 'total_iters': 5, 'base_lrs': [0.001], 'last_epoch': 20100, 'verbose': False, '_step_count': 20101, '_get_lr_called_within_step': False, '_last_lr': [0.001]}\n",
      "EPOCH 23/30\n"
     ]
    },
    {
     "name": "stderr",
     "output_type": "stream",
     "text": [
      "100%|██████████| 1608/1608 [03:03<00:00,  8.78it/s]\n",
      "100%|██████████| 1608/1608 [00:53<00:00, 30.07it/s]\n",
      "/home/jonathan/.local/lib/python3.10/site-packages/torch/optim/lr_scheduler.py:483: UserWarning: To get the last learning rate computed by the scheduler, please use `get_last_lr()`.\n",
      "  warnings.warn(\"To get the last learning rate computed by the scheduler, \"\n"
     ]
    },
    {
     "name": "stdout",
     "output_type": "stream",
     "text": [
      "[0.001]\n",
      "[0.001]\n",
      "{'factor': 1, 'total_iters': 5, 'base_lrs': [0.001], 'last_epoch': 21708, 'verbose': False, '_step_count': 21709, '_get_lr_called_within_step': False, '_last_lr': [0.001]}\n",
      "EPOCH 24/30\n"
     ]
    },
    {
     "name": "stderr",
     "output_type": "stream",
     "text": [
      "100%|██████████| 1608/1608 [03:03<00:00,  8.76it/s]\n",
      "100%|██████████| 1608/1608 [00:53<00:00, 30.21it/s]\n",
      "/home/jonathan/.local/lib/python3.10/site-packages/torch/optim/lr_scheduler.py:483: UserWarning: To get the last learning rate computed by the scheduler, please use `get_last_lr()`.\n",
      "  warnings.warn(\"To get the last learning rate computed by the scheduler, \"\n"
     ]
    },
    {
     "name": "stdout",
     "output_type": "stream",
     "text": [
      "[0.001]\n",
      "[0.001]\n",
      "{'factor': 1, 'total_iters': 5, 'base_lrs': [0.001], 'last_epoch': 23316, 'verbose': False, '_step_count': 23317, '_get_lr_called_within_step': False, '_last_lr': [0.001]}\n",
      "EPOCH 25/30\n"
     ]
    },
    {
     "name": "stderr",
     "output_type": "stream",
     "text": [
      "100%|██████████| 1608/1608 [03:04<00:00,  8.74it/s]\n",
      "100%|██████████| 1608/1608 [00:53<00:00, 30.27it/s]\n",
      "/home/jonathan/.local/lib/python3.10/site-packages/torch/optim/lr_scheduler.py:483: UserWarning: To get the last learning rate computed by the scheduler, please use `get_last_lr()`.\n",
      "  warnings.warn(\"To get the last learning rate computed by the scheduler, \"\n"
     ]
    },
    {
     "name": "stdout",
     "output_type": "stream",
     "text": [
      "[0.001]\n",
      "[0.001]\n",
      "{'factor': 1, 'total_iters': 5, 'base_lrs': [0.001], 'last_epoch': 24924, 'verbose': False, '_step_count': 24925, '_get_lr_called_within_step': False, '_last_lr': [0.001]}\n",
      "EPOCH 26/30\n"
     ]
    },
    {
     "name": "stderr",
     "output_type": "stream",
     "text": [
      "100%|██████████| 1608/1608 [03:03<00:00,  8.75it/s]\n",
      "100%|██████████| 1608/1608 [00:53<00:00, 30.19it/s]\n",
      "/home/jonathan/.local/lib/python3.10/site-packages/torch/optim/lr_scheduler.py:483: UserWarning: To get the last learning rate computed by the scheduler, please use `get_last_lr()`.\n",
      "  warnings.warn(\"To get the last learning rate computed by the scheduler, \"\n"
     ]
    },
    {
     "name": "stdout",
     "output_type": "stream",
     "text": [
      "[0.001]\n",
      "[0.001]\n",
      "{'factor': 1, 'total_iters': 5, 'base_lrs': [0.001], 'last_epoch': 26532, 'verbose': False, '_step_count': 26533, '_get_lr_called_within_step': False, '_last_lr': [0.001]}\n",
      "EPOCH 27/30\n"
     ]
    },
    {
     "name": "stderr",
     "output_type": "stream",
     "text": [
      "100%|██████████| 1608/1608 [03:03<00:00,  8.75it/s]\n",
      "100%|██████████| 1608/1608 [00:53<00:00, 30.29it/s]\n",
      "/home/jonathan/.local/lib/python3.10/site-packages/torch/optim/lr_scheduler.py:483: UserWarning: To get the last learning rate computed by the scheduler, please use `get_last_lr()`.\n",
      "  warnings.warn(\"To get the last learning rate computed by the scheduler, \"\n"
     ]
    },
    {
     "name": "stdout",
     "output_type": "stream",
     "text": [
      "[0.001]\n",
      "[0.001]\n",
      "{'factor': 1, 'total_iters': 5, 'base_lrs': [0.001], 'last_epoch': 28140, 'verbose': False, '_step_count': 28141, '_get_lr_called_within_step': False, '_last_lr': [0.001]}\n",
      "EPOCH 28/30\n"
     ]
    },
    {
     "name": "stderr",
     "output_type": "stream",
     "text": [
      "100%|██████████| 1608/1608 [03:03<00:00,  8.77it/s]\n",
      "100%|██████████| 1608/1608 [00:53<00:00, 30.29it/s]\n",
      "/home/jonathan/.local/lib/python3.10/site-packages/torch/optim/lr_scheduler.py:483: UserWarning: To get the last learning rate computed by the scheduler, please use `get_last_lr()`.\n",
      "  warnings.warn(\"To get the last learning rate computed by the scheduler, \"\n"
     ]
    },
    {
     "name": "stdout",
     "output_type": "stream",
     "text": [
      "[0.001]\n",
      "[0.001]\n",
      "{'factor': 1, 'total_iters': 5, 'base_lrs': [0.001], 'last_epoch': 29748, 'verbose': False, '_step_count': 29749, '_get_lr_called_within_step': False, '_last_lr': [0.001]}\n",
      "{'batch_size': 2, 'learning_rate': ('step10', 0.001), 'max_epochs': 30, 'model': 'ResnetUnet', 'rectype': 'L2'}\n",
      "{'batch_size': 2, 'learning_rate': ('step10', 0.001), 'max_epochs': 30, 'model': 'ResnetUnet', 'rectype': 'L1'}\n",
      "{'batch_size': 2, 'learning_rate': ('step10', 0.001), 'max_epochs': 30, 'model': 'ResnetUnet', 'rectype': 'TV'}\n",
      "{'batch_size': 2, 'learning_rate': ('step10', 0.001), 'max_epochs': 30, 'model': 'ResnetUnet', 'rectype': 'L2_L1'}\n",
      "{'batch_size': 2, 'learning_rate': ('step10', 0.001), 'max_epochs': 30, 'model': 'ResnetUnet', 'rectype': 'L2_TV'}\n",
      "EPOCH 28/30\n"
     ]
    },
    {
     "name": "stderr",
     "output_type": "stream",
     "text": [
      "100%|██████████| 1608/1608 [03:04<00:00,  8.74it/s]\n",
      "100%|██████████| 1608/1608 [00:45<00:00, 35.07it/s]\n"
     ]
    },
    {
     "name": "stdout",
     "output_type": "stream",
     "text": [
      "new best loss: 15.178089141845703\n",
      "[0.001]\n",
      "[0.001]\n",
      "{'factor': 1, 'total_iters': 5, 'base_lrs': [0.001], 'last_epoch': 36984, 'verbose': False, '_step_count': 36985, '_get_lr_called_within_step': False, '_last_lr': [0.001]}\n"
     ]
    },
    {
     "name": "stderr",
     "output_type": "stream",
     "text": [
      "/home/jonathan/.local/lib/python3.10/site-packages/torch/optim/lr_scheduler.py:483: UserWarning: To get the last learning rate computed by the scheduler, please use `get_last_lr()`.\n",
      "  warnings.warn(\"To get the last learning rate computed by the scheduler, \"\n"
     ]
    },
    {
     "name": "stdout",
     "output_type": "stream",
     "text": [
      "{'batch_size': 2, 'learning_rate': ('step10', 0.001), 'max_epochs': 30, 'model': 'ResnetUnet', 'rectype': 'L1_TV'}\n",
      "EPOCH 28/30\n"
     ]
    },
    {
     "name": "stderr",
     "output_type": "stream",
     "text": [
      "100%|██████████| 1608/1608 [03:03<00:00,  8.78it/s]\n",
      "100%|██████████| 1608/1608 [00:45<00:00, 35.01it/s]\n"
     ]
    },
    {
     "name": "stdout",
     "output_type": "stream",
     "text": [
      "new best loss: 14.504703521728516\n",
      "[0.001]\n",
      "[0.001]\n",
      "{'factor': 1, 'total_iters': 5, 'base_lrs': [0.001], 'last_epoch': 48240, 'verbose': False, '_step_count': 48241, '_get_lr_called_within_step': False, '_last_lr': [0.001]}\n",
      "{'batch_size': 2, 'learning_rate': ('step10', 0.001), 'max_epochs': 30, 'model': 'ResnetUnet', 'rectype': 'L2_L1_TV'}\n"
     ]
    },
    {
     "name": "stderr",
     "output_type": "stream",
     "text": [
      "/home/jonathan/.local/lib/python3.10/site-packages/torch/optim/lr_scheduler.py:483: UserWarning: To get the last learning rate computed by the scheduler, please use `get_last_lr()`.\n",
      "  warnings.warn(\"To get the last learning rate computed by the scheduler, \"\n"
     ]
    },
    {
     "name": "stdout",
     "output_type": "stream",
     "text": [
      "EPOCH 27/30\n"
     ]
    },
    {
     "name": "stderr",
     "output_type": "stream",
     "text": [
      "100%|██████████| 1608/1608 [03:07<00:00,  8.59it/s]\n",
      "100%|██████████| 1608/1608 [00:46<00:00, 34.65it/s]\n",
      "/home/jonathan/.local/lib/python3.10/site-packages/torch/optim/lr_scheduler.py:483: UserWarning: To get the last learning rate computed by the scheduler, please use `get_last_lr()`.\n",
      "  warnings.warn(\"To get the last learning rate computed by the scheduler, \"\n"
     ]
    },
    {
     "name": "stdout",
     "output_type": "stream",
     "text": [
      "[0.001]\n",
      "[0.001]\n",
      "{'factor': 1, 'total_iters': 5, 'base_lrs': [0.001], 'last_epoch': 46632, 'verbose': False, '_step_count': 46633, '_get_lr_called_within_step': False, '_last_lr': [0.001]}\n",
      "EPOCH 28/30\n"
     ]
    },
    {
     "name": "stderr",
     "output_type": "stream",
     "text": [
      "100%|██████████| 1608/1608 [03:07<00:00,  8.57it/s]\n",
      "100%|██████████| 1608/1608 [00:46<00:00, 34.75it/s]\n",
      "/home/jonathan/.local/lib/python3.10/site-packages/torch/optim/lr_scheduler.py:483: UserWarning: To get the last learning rate computed by the scheduler, please use `get_last_lr()`.\n",
      "  warnings.warn(\"To get the last learning rate computed by the scheduler, \"\n"
     ]
    },
    {
     "name": "stdout",
     "output_type": "stream",
     "text": [
      "[0.001]\n",
      "[0.001]\n",
      "{'factor': 1, 'total_iters': 5, 'base_lrs': [0.001], 'last_epoch': 48240, 'verbose': False, '_step_count': 48241, '_get_lr_called_within_step': False, '_last_lr': [0.001]}\n",
      "{'batch_size': 2, 'learning_rate': ('step10', 0.001), 'max_epochs': 30, 'model': 'ConvUNeXt', 'rectype': 'L2'}\n",
      "EPOCH 25/30\n"
     ]
    },
    {
     "name": "stderr",
     "output_type": "stream",
     "text": [
      "100%|██████████| 1608/1608 [03:54<00:00,  6.84it/s]\n",
      "100%|██████████| 1608/1608 [01:06<00:00, 24.07it/s]\n",
      "/home/jonathan/.local/lib/python3.10/site-packages/torch/optim/lr_scheduler.py:483: UserWarning: To get the last learning rate computed by the scheduler, please use `get_last_lr()`.\n",
      "  warnings.warn(\"To get the last learning rate computed by the scheduler, \"\n"
     ]
    },
    {
     "name": "stdout",
     "output_type": "stream",
     "text": [
      "[0.001]\n",
      "[0.001]\n",
      "{'factor': 1, 'total_iters': 5, 'base_lrs': [0.001], 'last_epoch': 43416, 'verbose': False, '_step_count': 43417, '_get_lr_called_within_step': False, '_last_lr': [0.001]}\n",
      "EPOCH 26/30\n"
     ]
    },
    {
     "name": "stderr",
     "output_type": "stream",
     "text": [
      "100%|██████████| 1608/1608 [03:55<00:00,  6.83it/s]\n",
      "100%|██████████| 1608/1608 [01:07<00:00, 23.93it/s]\n",
      "/home/jonathan/.local/lib/python3.10/site-packages/torch/optim/lr_scheduler.py:483: UserWarning: To get the last learning rate computed by the scheduler, please use `get_last_lr()`.\n",
      "  warnings.warn(\"To get the last learning rate computed by the scheduler, \"\n"
     ]
    },
    {
     "name": "stdout",
     "output_type": "stream",
     "text": [
      "[0.001]\n",
      "[0.001]\n",
      "{'factor': 1, 'total_iters': 5, 'base_lrs': [0.001], 'last_epoch': 45024, 'verbose': False, '_step_count': 45025, '_get_lr_called_within_step': False, '_last_lr': [0.001]}\n",
      "EPOCH 27/30\n"
     ]
    },
    {
     "name": "stderr",
     "output_type": "stream",
     "text": [
      "100%|██████████| 1608/1608 [03:55<00:00,  6.84it/s]\n",
      "100%|██████████| 1608/1608 [01:06<00:00, 24.04it/s]\n",
      "/home/jonathan/.local/lib/python3.10/site-packages/torch/optim/lr_scheduler.py:483: UserWarning: To get the last learning rate computed by the scheduler, please use `get_last_lr()`.\n",
      "  warnings.warn(\"To get the last learning rate computed by the scheduler, \"\n"
     ]
    },
    {
     "name": "stdout",
     "output_type": "stream",
     "text": [
      "[0.001]\n",
      "[0.001]\n",
      "{'factor': 1, 'total_iters': 5, 'base_lrs': [0.001], 'last_epoch': 46632, 'verbose': False, '_step_count': 46633, '_get_lr_called_within_step': False, '_last_lr': [0.001]}\n",
      "EPOCH 28/30\n"
     ]
    },
    {
     "name": "stderr",
     "output_type": "stream",
     "text": [
      "100%|██████████| 1608/1608 [03:55<00:00,  6.83it/s]\n",
      "100%|██████████| 1608/1608 [01:07<00:00, 23.89it/s]\n",
      "/home/jonathan/.local/lib/python3.10/site-packages/torch/optim/lr_scheduler.py:483: UserWarning: To get the last learning rate computed by the scheduler, please use `get_last_lr()`.\n",
      "  warnings.warn(\"To get the last learning rate computed by the scheduler, \"\n"
     ]
    },
    {
     "name": "stdout",
     "output_type": "stream",
     "text": [
      "[0.001]\n",
      "[0.001]\n",
      "{'factor': 1, 'total_iters': 5, 'base_lrs': [0.001], 'last_epoch': 48240, 'verbose': False, '_step_count': 48241, '_get_lr_called_within_step': False, '_last_lr': [0.001]}\n",
      "{'batch_size': 2, 'learning_rate': ('step10', 0.001), 'max_epochs': 30, 'model': 'ConvUNeXt', 'rectype': 'L1'}\n",
      "EPOCH 27/30\n"
     ]
    },
    {
     "name": "stderr",
     "output_type": "stream",
     "text": [
      "100%|██████████| 1608/1608 [03:55<00:00,  6.84it/s]\n",
      "100%|██████████| 1608/1608 [01:06<00:00, 24.04it/s]\n",
      "/home/jonathan/.local/lib/python3.10/site-packages/torch/optim/lr_scheduler.py:483: UserWarning: To get the last learning rate computed by the scheduler, please use `get_last_lr()`.\n",
      "  warnings.warn(\"To get the last learning rate computed by the scheduler, \"\n"
     ]
    },
    {
     "name": "stdout",
     "output_type": "stream",
     "text": [
      "[0.001]\n",
      "[0.001]\n",
      "{'factor': 1, 'total_iters': 5, 'base_lrs': [0.001], 'last_epoch': 46632, 'verbose': False, '_step_count': 46633, '_get_lr_called_within_step': False, '_last_lr': [0.001]}\n",
      "EPOCH 28/30\n"
     ]
    },
    {
     "name": "stderr",
     "output_type": "stream",
     "text": [
      "100%|██████████| 1608/1608 [03:55<00:00,  6.84it/s]\n",
      "100%|██████████| 1608/1608 [01:07<00:00, 23.88it/s]\n",
      "/home/jonathan/.local/lib/python3.10/site-packages/torch/optim/lr_scheduler.py:483: UserWarning: To get the last learning rate computed by the scheduler, please use `get_last_lr()`.\n",
      "  warnings.warn(\"To get the last learning rate computed by the scheduler, \"\n"
     ]
    },
    {
     "name": "stdout",
     "output_type": "stream",
     "text": [
      "[0.001]\n",
      "[0.001]\n",
      "{'factor': 1, 'total_iters': 5, 'base_lrs': [0.001], 'last_epoch': 48240, 'verbose': False, '_step_count': 48241, '_get_lr_called_within_step': False, '_last_lr': [0.001]}\n",
      "{'batch_size': 2, 'learning_rate': ('step10', 0.001), 'max_epochs': 30, 'model': 'ConvUNeXt', 'rectype': 'TV'}\n",
      "EPOCH 24/30\n"
     ]
    },
    {
     "name": "stderr",
     "output_type": "stream",
     "text": [
      "100%|██████████| 1608/1608 [03:55<00:00,  6.84it/s]\n",
      "100%|██████████| 1608/1608 [01:07<00:00, 23.98it/s]\n",
      "/home/jonathan/.local/lib/python3.10/site-packages/torch/optim/lr_scheduler.py:483: UserWarning: To get the last learning rate computed by the scheduler, please use `get_last_lr()`.\n",
      "  warnings.warn(\"To get the last learning rate computed by the scheduler, \"\n"
     ]
    },
    {
     "name": "stdout",
     "output_type": "stream",
     "text": [
      "[0.001]\n",
      "[0.001]\n",
      "{'factor': 1, 'total_iters': 5, 'base_lrs': [0.001], 'last_epoch': 41808, 'verbose': False, '_step_count': 41809, '_get_lr_called_within_step': False, '_last_lr': [0.001]}\n",
      "EPOCH 25/30\n"
     ]
    },
    {
     "name": "stderr",
     "output_type": "stream",
     "text": [
      "100%|██████████| 1608/1608 [03:55<00:00,  6.84it/s]\n",
      "100%|██████████| 1608/1608 [01:06<00:00, 24.07it/s]\n",
      "/home/jonathan/.local/lib/python3.10/site-packages/torch/optim/lr_scheduler.py:483: UserWarning: To get the last learning rate computed by the scheduler, please use `get_last_lr()`.\n",
      "  warnings.warn(\"To get the last learning rate computed by the scheduler, \"\n"
     ]
    },
    {
     "name": "stdout",
     "output_type": "stream",
     "text": [
      "[0.001]\n",
      "[0.001]\n",
      "{'factor': 1, 'total_iters': 5, 'base_lrs': [0.001], 'last_epoch': 43416, 'verbose': False, '_step_count': 43417, '_get_lr_called_within_step': False, '_last_lr': [0.001]}\n",
      "EPOCH 26/30\n"
     ]
    },
    {
     "name": "stderr",
     "output_type": "stream",
     "text": [
      "100%|██████████| 1608/1608 [03:54<00:00,  6.84it/s]\n",
      "100%|██████████| 1608/1608 [01:07<00:00, 23.99it/s]\n",
      "/home/jonathan/.local/lib/python3.10/site-packages/torch/optim/lr_scheduler.py:483: UserWarning: To get the last learning rate computed by the scheduler, please use `get_last_lr()`.\n",
      "  warnings.warn(\"To get the last learning rate computed by the scheduler, \"\n"
     ]
    },
    {
     "name": "stdout",
     "output_type": "stream",
     "text": [
      "[0.001]\n",
      "[0.001]\n",
      "{'factor': 1, 'total_iters': 5, 'base_lrs': [0.001], 'last_epoch': 45024, 'verbose': False, '_step_count': 45025, '_get_lr_called_within_step': False, '_last_lr': [0.001]}\n",
      "EPOCH 27/30\n"
     ]
    },
    {
     "name": "stderr",
     "output_type": "stream",
     "text": [
      "100%|██████████| 1608/1608 [03:54<00:00,  6.84it/s]\n",
      "100%|██████████| 1608/1608 [01:06<00:00, 24.09it/s]\n",
      "/home/jonathan/.local/lib/python3.10/site-packages/torch/optim/lr_scheduler.py:483: UserWarning: To get the last learning rate computed by the scheduler, please use `get_last_lr()`.\n",
      "  warnings.warn(\"To get the last learning rate computed by the scheduler, \"\n"
     ]
    },
    {
     "name": "stdout",
     "output_type": "stream",
     "text": [
      "new best loss: 18.587345123291016\n",
      "[0.001]\n",
      "[0.001]\n",
      "{'factor': 1, 'total_iters': 5, 'base_lrs': [0.001], 'last_epoch': 46632, 'verbose': False, '_step_count': 46633, '_get_lr_called_within_step': False, '_last_lr': [0.001]}\n",
      "EPOCH 28/30\n"
     ]
    },
    {
     "name": "stderr",
     "output_type": "stream",
     "text": [
      "100%|██████████| 1608/1608 [03:54<00:00,  6.85it/s]\n",
      "100%|██████████| 1608/1608 [01:06<00:00, 24.03it/s]\n",
      "/home/jonathan/.local/lib/python3.10/site-packages/torch/optim/lr_scheduler.py:483: UserWarning: To get the last learning rate computed by the scheduler, please use `get_last_lr()`.\n",
      "  warnings.warn(\"To get the last learning rate computed by the scheduler, \"\n"
     ]
    },
    {
     "name": "stdout",
     "output_type": "stream",
     "text": [
      "[0.001]\n",
      "[0.001]\n",
      "{'factor': 1, 'total_iters': 5, 'base_lrs': [0.001], 'last_epoch': 48240, 'verbose': False, '_step_count': 48241, '_get_lr_called_within_step': False, '_last_lr': [0.001]}\n",
      "{'batch_size': 2, 'learning_rate': ('step10', 0.001), 'max_epochs': 30, 'model': 'ConvUNeXt', 'rectype': 'L2_L1'}\n",
      "EPOCH 25/30\n"
     ]
    },
    {
     "name": "stderr",
     "output_type": "stream",
     "text": [
      "100%|██████████| 1608/1608 [03:59<00:00,  6.71it/s]\n",
      "100%|██████████| 1608/1608 [01:07<00:00, 23.89it/s]\n",
      "/home/jonathan/.local/lib/python3.10/site-packages/torch/optim/lr_scheduler.py:483: UserWarning: To get the last learning rate computed by the scheduler, please use `get_last_lr()`.\n",
      "  warnings.warn(\"To get the last learning rate computed by the scheduler, \"\n"
     ]
    },
    {
     "name": "stdout",
     "output_type": "stream",
     "text": [
      "new best loss: 20.253089904785156\n",
      "[0.001]\n",
      "[0.001]\n",
      "{'factor': 1, 'total_iters': 5, 'base_lrs': [0.001], 'last_epoch': 43416, 'verbose': False, '_step_count': 43417, '_get_lr_called_within_step': False, '_last_lr': [0.001]}\n",
      "EPOCH 26/30\n"
     ]
    },
    {
     "name": "stderr",
     "output_type": "stream",
     "text": [
      "100%|██████████| 1608/1608 [03:59<00:00,  6.71it/s]\n",
      "100%|██████████| 1608/1608 [01:07<00:00, 23.73it/s]\n",
      "/home/jonathan/.local/lib/python3.10/site-packages/torch/optim/lr_scheduler.py:483: UserWarning: To get the last learning rate computed by the scheduler, please use `get_last_lr()`.\n",
      "  warnings.warn(\"To get the last learning rate computed by the scheduler, \"\n"
     ]
    },
    {
     "name": "stdout",
     "output_type": "stream",
     "text": [
      "[0.001]\n",
      "[0.001]\n",
      "{'factor': 1, 'total_iters': 5, 'base_lrs': [0.001], 'last_epoch': 45024, 'verbose': False, '_step_count': 45025, '_get_lr_called_within_step': False, '_last_lr': [0.001]}\n",
      "EPOCH 27/30\n"
     ]
    },
    {
     "name": "stderr",
     "output_type": "stream",
     "text": [
      "100%|██████████| 1608/1608 [03:59<00:00,  6.71it/s]\n",
      "100%|██████████| 1608/1608 [01:07<00:00, 23.82it/s]\n",
      "/home/jonathan/.local/lib/python3.10/site-packages/torch/optim/lr_scheduler.py:483: UserWarning: To get the last learning rate computed by the scheduler, please use `get_last_lr()`.\n",
      "  warnings.warn(\"To get the last learning rate computed by the scheduler, \"\n"
     ]
    },
    {
     "name": "stdout",
     "output_type": "stream",
     "text": [
      "[0.001]\n",
      "[0.001]\n",
      "{'factor': 1, 'total_iters': 5, 'base_lrs': [0.001], 'last_epoch': 46632, 'verbose': False, '_step_count': 46633, '_get_lr_called_within_step': False, '_last_lr': [0.001]}\n",
      "EPOCH 28/30\n"
     ]
    },
    {
     "name": "stderr",
     "output_type": "stream",
     "text": [
      "100%|██████████| 1608/1608 [03:59<00:00,  6.72it/s]\n",
      "100%|██████████| 1608/1608 [01:07<00:00, 23.70it/s]\n",
      "/home/jonathan/.local/lib/python3.10/site-packages/torch/optim/lr_scheduler.py:483: UserWarning: To get the last learning rate computed by the scheduler, please use `get_last_lr()`.\n",
      "  warnings.warn(\"To get the last learning rate computed by the scheduler, \"\n"
     ]
    },
    {
     "name": "stdout",
     "output_type": "stream",
     "text": [
      "[0.001]\n",
      "[0.001]\n",
      "{'factor': 1, 'total_iters': 5, 'base_lrs': [0.001], 'last_epoch': 48240, 'verbose': False, '_step_count': 48241, '_get_lr_called_within_step': False, '_last_lr': [0.001]}\n",
      "{'batch_size': 2, 'learning_rate': ('step10', 0.001), 'max_epochs': 30, 'model': 'ConvUNeXt', 'rectype': 'L2_TV'}\n",
      "EPOCH 0/30\n"
     ]
    },
    {
     "name": "stderr",
     "output_type": "stream",
     "text": [
      "100%|██████████| 1608/1608 [03:53<00:00,  6.90it/s]\n",
      "100%|██████████| 1608/1608 [01:07<00:00, 23.75it/s]\n",
      "/home/jonathan/.local/lib/python3.10/site-packages/torch/optim/lr_scheduler.py:483: UserWarning: To get the last learning rate computed by the scheduler, please use `get_last_lr()`.\n",
      "  warnings.warn(\"To get the last learning rate computed by the scheduler, \"\n"
     ]
    },
    {
     "name": "stdout",
     "output_type": "stream",
     "text": [
      "new best loss: 56.68344497680664\n",
      "[0.001]\n",
      "[0.001]\n",
      "{'factor': 1, 'total_iters': 5, 'base_lrs': [0.001], 'last_epoch': 1608, 'verbose': False, '_step_count': 1609, '_get_lr_called_within_step': False, '_last_lr': [0.001]}\n",
      "EPOCH 1/30\n"
     ]
    },
    {
     "name": "stderr",
     "output_type": "stream",
     "text": [
      "100%|██████████| 1608/1608 [03:53<00:00,  6.90it/s]\n",
      "100%|██████████| 1608/1608 [01:07<00:00, 23.75it/s]\n",
      "/home/jonathan/.local/lib/python3.10/site-packages/torch/optim/lr_scheduler.py:483: UserWarning: To get the last learning rate computed by the scheduler, please use `get_last_lr()`.\n",
      "  warnings.warn(\"To get the last learning rate computed by the scheduler, \"\n"
     ]
    },
    {
     "name": "stdout",
     "output_type": "stream",
     "text": [
      "new best loss: 34.962425231933594\n",
      "[0.001]\n",
      "[0.001]\n",
      "{'factor': 1, 'total_iters': 5, 'base_lrs': [0.001], 'last_epoch': 3216, 'verbose': False, '_step_count': 3217, '_get_lr_called_within_step': False, '_last_lr': [0.001]}\n",
      "EPOCH 2/30\n"
     ]
    },
    {
     "name": "stderr",
     "output_type": "stream",
     "text": [
      "100%|██████████| 1608/1608 [03:52<00:00,  6.92it/s]\n",
      "100%|██████████| 1608/1608 [01:07<00:00, 23.82it/s]\n",
      "/home/jonathan/.local/lib/python3.10/site-packages/torch/optim/lr_scheduler.py:483: UserWarning: To get the last learning rate computed by the scheduler, please use `get_last_lr()`.\n",
      "  warnings.warn(\"To get the last learning rate computed by the scheduler, \"\n"
     ]
    },
    {
     "name": "stdout",
     "output_type": "stream",
     "text": [
      "new best loss: 24.122753143310547\n",
      "[0.001]\n",
      "[0.001]\n",
      "{'factor': 1, 'total_iters': 5, 'base_lrs': [0.001], 'last_epoch': 4824, 'verbose': False, '_step_count': 4825, '_get_lr_called_within_step': False, '_last_lr': [0.001]}\n",
      "EPOCH 3/30\n"
     ]
    },
    {
     "name": "stderr",
     "output_type": "stream",
     "text": [
      " 93%|█████████▎| 1493/1608 [03:36<00:16,  6.88it/s]\n"
     ]
    },
    {
     "ename": "KeyboardInterrupt",
     "evalue": "",
     "output_type": "error",
     "traceback": [
      "\u001b[0;31m---------------------------------------------------------------------------\u001b[0m",
      "\u001b[0;31mKeyboardInterrupt\u001b[0m                         Traceback (most recent call last)",
      "Cell \u001b[0;32mIn[39], line 29\u001b[0m\n\u001b[1;32m     26\u001b[0m radial_lines\u001b[39m=\u001b[39m[\u001b[39m20\u001b[39m,\u001b[39m40\u001b[39m,\u001b[39m60\u001b[39m,\u001b[39m80\u001b[39m,\u001b[39m100\u001b[39m]\n\u001b[1;32m     28\u001b[0m \u001b[39mfor\u001b[39;00m rl \u001b[39min\u001b[39;00m radial_lines:\n\u001b[0;32m---> 29\u001b[0m     execute(rl, train_loaders, val_loaders, test_loaders,device,exp_params)\n",
      "File \u001b[0;32m<timed exec>:41\u001b[0m, in \u001b[0;36mexecute\u001b[0;34m(num_radial_lines, data_train, data_val, data_test, device, exp_params)\u001b[0m\n",
      "Cell \u001b[0;32mIn[37], line 17\u001b[0m, in \u001b[0;36mtrain\u001b[0;34m(rec_type, radial_lines, model_name, lr_type, learning_rate, dl_train, dl_val, device, max_epochs)\u001b[0m\n\u001b[1;32m     15\u001b[0m t_train\u001b[39m=\u001b[39mtime\u001b[39m.\u001b[39mtime()\n\u001b[1;32m     16\u001b[0m \u001b[39m### Training (use the training function)\u001b[39;00m\n\u001b[0;32m---> 17\u001b[0m train_loss, optimizer, scheduler\u001b[39m=\u001b[39mtrain_epoch_den(\n\u001b[1;32m     18\u001b[0m     model\u001b[39m=\u001b[39;49mmodel, \n\u001b[1;32m     19\u001b[0m     dataloader\u001b[39m=\u001b[39;49mdl_train, \n\u001b[1;32m     20\u001b[0m     optimizer\u001b[39m=\u001b[39;49moptimizer, \n\u001b[1;32m     21\u001b[0m     scheduler\u001b[39m=\u001b[39;49mscheduler)\n\u001b[1;32m     22\u001b[0m t_train\u001b[39m=\u001b[39mtime\u001b[39m.\u001b[39mtime()\u001b[39m-\u001b[39mt_train\n\u001b[1;32m     23\u001b[0m t_val\u001b[39m=\u001b[39mtime\u001b[39m.\u001b[39mtime()\n",
      "Cell \u001b[0;32mIn[34], line 17\u001b[0m, in \u001b[0;36mtrain_epoch_den\u001b[0;34m(model, dataloader, optimizer, scheduler)\u001b[0m\n\u001b[1;32m     15\u001b[0m optimizer\u001b[39m.\u001b[39mzero_grad()\n\u001b[1;32m     16\u001b[0m loss\u001b[39m.\u001b[39mbackward()\n\u001b[0;32m---> 17\u001b[0m train_loss\u001b[39m+\u001b[39m\u001b[39m=\u001b[39mloss\u001b[39m.\u001b[39;49mdetach()\u001b[39m.\u001b[39;49mcpu()\u001b[39m.\u001b[39mnumpy()\n\u001b[1;32m     18\u001b[0m datasize\u001b[39m+\u001b[39m\u001b[39m=\u001b[39mimage_batch\u001b[39m.\u001b[39mshape[\u001b[39m0\u001b[39m]\n\u001b[1;32m     19\u001b[0m optimizer\u001b[39m.\u001b[39mstep()\n",
      "\u001b[0;31mKeyboardInterrupt\u001b[0m: "
     ]
    },
    {
     "ename": "",
     "evalue": "",
     "output_type": "error",
     "traceback": [
      "\u001b[1;31mThe Kernel crashed while executing code in the the current cell or a previous cell. Please review the code in the cell(s) to identify a possible cause of the failure. Click <a href='https://aka.ms/vscodeJupyterKernelCrash'>here</a> for more info. View Jupyter <a href='command:jupyter.viewOutput'>log</a> for further details."
     ]
    }
   ],
   "source": [
    "\n",
    "#Paper: Cyclical Learning Rates for Training Neural Networks\n",
    "#PyTorch Lightning PyTorch Lightning (PL) [13] is a framework which decouples scientific components and engineering details in the code written for PyTorch [34]. PL enables our implementations\n",
    "#of the CSL approaches to be hardware agnostic, more easily readable, and accessible to researchers\n",
    "##with lower computational resources since it enables running the same code on arbitrary hardware. In\n",
    "#addition, it allows us to use the exactly same dataset splits, same fine-tuning protocol, early-stopping\n",
    "#criterion and transformation pipelines to ensure the consistency across various experimental settings.\n",
    "\n",
    "#Pytorch:\n",
    "#Adam Paszke, Sam Gross, Francisco Massa, Adam Lerer, James Bradbury, Gregory Chanan,\n",
    "#Trevor Killeen, Zeming Lin, Natalia Gimelshein, Luca Antiga, et al. Pytorch: An imperative\n",
    "#style, high-performance deep learning library. In Advances in neural information processing\n",
    "#systems, pages 8026–8037, 2019.\n",
    "\n",
    "\n",
    "#Pytorch lightning: WA Falcon. Pytorch lightning. GitHub. Note: https://github. com/williamFalcon/pytorchlightning Cited by, 3, 2019\n",
    "\n",
    "exp_params={\"model\": ['Unet','ResnetUnet', 'ConvUNeXt'],\n",
    "            #\"model\": ['ResnetUnet'],\n",
    "            \"rectype\": rectype_strings,\n",
    "            \"learning_rate\":[('step10',1e-3)],#('constant', 1e-5)],#[1e-4],#, 'exp', 'plateau'],\n",
    "            \"max_epochs\":[30],\n",
    "            \"batch_size\": [2],\n",
    "}\n",
    "\n",
    "\n",
    "radial_lines=[20,40,60,80,100]\n",
    "\n",
    "for rl in radial_lines:\n",
    "    execute(rl, train_loaders, val_loaders, test_loaders,device,exp_params)\n",
    "\n",
    "\n"
   ]
  },
  {
   "cell_type": "code",
   "execution_count": null,
   "metadata": {},
   "outputs": [
    {
     "name": "stdout",
     "output_type": "stream",
     "text": [
      "0.001\n",
      "0.001\n",
      "0.001\n",
      "0.001\n",
      "0.001\n",
      "0.001\n",
      "0.001\n",
      "0.001\n",
      "0.001\n",
      "0.0001\n",
      "0.0001\n",
      "0.0001\n",
      "0.0001\n",
      "0.0001\n",
      "0.0001\n",
      "0.0001\n",
      "0.0001\n",
      "0.0001\n",
      "0.0001\n",
      "1e-05\n",
      "1e-05\n",
      "1e-05\n",
      "1e-05\n",
      "1e-05\n",
      "1e-05\n",
      "1e-05\n",
      "1e-05\n",
      "1e-05\n",
      "1e-05\n",
      "1.0000000000000002e-06\n",
      "1.0000000000000002e-06\n",
      "1.0000000000000002e-06\n",
      "1.0000000000000002e-06\n",
      "1.0000000000000002e-06\n",
      "1.0000000000000002e-06\n",
      "1.0000000000000002e-06\n",
      "1.0000000000000002e-06\n",
      "1.0000000000000002e-06\n",
      "1.0000000000000002e-06\n",
      "1.0000000000000002e-07\n",
      "1.0000000000000002e-07\n",
      "1.0000000000000002e-07\n",
      "1.0000000000000002e-07\n",
      "1.0000000000000002e-07\n",
      "1.0000000000000002e-07\n",
      "1.0000000000000002e-07\n",
      "1.0000000000000002e-07\n",
      "1.0000000000000002e-07\n",
      "1.0000000000000002e-07\n",
      "1.0000000000000004e-08\n",
      "1.0000000000000004e-08\n",
      "1.0000000000000004e-08\n",
      "1.0000000000000004e-08\n",
      "1.0000000000000004e-08\n",
      "1.0000000000000004e-08\n",
      "1.0000000000000004e-08\n",
      "1.0000000000000004e-08\n",
      "1.0000000000000004e-08\n",
      "1.0000000000000004e-08\n",
      "1.0000000000000005e-09\n",
      "1.0000000000000005e-09\n",
      "1.0000000000000005e-09\n",
      "1.0000000000000005e-09\n",
      "1.0000000000000005e-09\n",
      "1.0000000000000005e-09\n",
      "1.0000000000000005e-09\n",
      "1.0000000000000005e-09\n",
      "1.0000000000000005e-09\n",
      "1.0000000000000005e-09\n",
      "1.0000000000000006e-10\n",
      "1.0000000000000006e-10\n",
      "1.0000000000000006e-10\n",
      "1.0000000000000006e-10\n",
      "1.0000000000000006e-10\n",
      "1.0000000000000006e-10\n",
      "1.0000000000000006e-10\n",
      "1.0000000000000006e-10\n",
      "1.0000000000000006e-10\n",
      "1.0000000000000006e-10\n",
      "1.0000000000000006e-11\n",
      "1.0000000000000006e-11\n",
      "1.0000000000000006e-11\n",
      "1.0000000000000006e-11\n",
      "1.0000000000000006e-11\n",
      "1.0000000000000006e-11\n",
      "1.0000000000000006e-11\n",
      "1.0000000000000006e-11\n",
      "1.0000000000000006e-11\n",
      "1.0000000000000006e-11\n",
      "1.0000000000000006e-12\n",
      "1.0000000000000006e-12\n",
      "1.0000000000000006e-12\n",
      "1.0000000000000006e-12\n",
      "1.0000000000000006e-12\n",
      "1.0000000000000006e-12\n",
      "1.0000000000000006e-12\n",
      "1.0000000000000006e-12\n",
      "1.0000000000000006e-12\n",
      "1.0000000000000006e-12\n",
      "1.0000000000000007e-13\n"
     ]
    }
   ],
   "source": [
    "# Assuming optimizer uses lr = 0.05 for all groups\n",
    "# lr = 0.05     if epoch < 30\n",
    "# lr = 0.005    if 30 <= epoch < 60\n",
    "# lr = 0.0005   if 60 <= epoch < 90\n",
    "# ...\n",
    "from models import ResnetUnet\n",
    "model = ResnetUnet(in_channels=3)\n",
    "params_to_optimize = [{'params': model.parameters()}] \n",
    "optimizer = torch.optim.Adam(params_to_optimize, lr=1e-3, weight_decay=1e-05)\n",
    "scheduler = torch.optim.lr_scheduler.StepLR(optimizer, step_size=10, gamma=0.1)\n",
    "for epoch in range(100):\n",
    "    optimizer.step()\n",
    "    scheduler.step()\n",
    "    print(scheduler.get_last_lr()[0])"
   ]
  },
  {
   "cell_type": "code",
   "execution_count": null,
   "metadata": {},
   "outputs": [],
   "source": []
  }
 ],
 "metadata": {
  "kernelspec": {
   "display_name": "Python 3",
   "language": "python",
   "name": "python3"
  },
  "language_info": {
   "codemirror_mode": {
    "name": "ipython",
    "version": 3
   },
   "file_extension": ".py",
   "mimetype": "text/x-python",
   "name": "python",
   "nbconvert_exporter": "python",
   "pygments_lexer": "ipython3",
   "version": "3.10.6"
  },
  "orig_nbformat": 4,
  "vscode": {
   "interpreter": {
    "hash": "916dbcbb3f70747c44a77c7bcd40155683ae19c65e1c03b4aa3499c5328201f1"
   }
  }
 },
 "nbformat": 4,
 "nbformat_minor": 2
}
